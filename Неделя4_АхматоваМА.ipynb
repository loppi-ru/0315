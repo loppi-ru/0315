{
  "nbformat": 4,
  "nbformat_minor": 0,
  "metadata": {
    "colab": {
      "provenance": [],
      "authorship_tag": "ABX9TyP/TaE9WZiYyZMUet/t42hY",
      "include_colab_link": true
    },
    "kernelspec": {
      "name": "python3",
      "display_name": "Python 3"
    },
    "language_info": {
      "name": "python"
    }
  },
  "cells": [
    {
      "cell_type": "markdown",
      "metadata": {
        "id": "view-in-github",
        "colab_type": "text"
      },
      "source": [
        "<a href=\"https://colab.research.google.com/github/loppi-ru/0315/blob/main/%D0%9D%D0%B5%D0%B4%D0%B5%D0%BB%D1%8F4_%D0%90%D1%85%D0%BC%D0%B0%D1%82%D0%BE%D0%B2%D0%B0%D0%9C%D0%90.ipynb\" target=\"_parent\"><img src=\"https://colab.research.google.com/assets/colab-badge.svg\" alt=\"Open In Colab\"/></a>"
      ]
    },
    {
      "cell_type": "markdown",
      "source": [
        " Наименьший делитель.\n",
        "Дано целое число, не меньшее 2. Выведите его наименьший натуральный делитель, отличный от 1.\n",
        "Входные данные\n",
        "Вводится натуральное число.\n",
        "Выходные данные\n",
        "Выведите ответ на задачу."
      ],
      "metadata": {
        "id": "1hAiAE86ZY_T"
      }
    },
    {
      "cell_type": "code",
      "execution_count": 2,
      "metadata": {
        "colab": {
          "base_uri": "https://localhost:8080/"
        },
        "id": "ggxTMUv_Yr9l",
        "outputId": "eb265f11-3c46-426a-eefe-263c87ab1fb1"
      },
      "outputs": [
        {
          "output_type": "stream",
          "name": "stdout",
          "text": [
            "Введите натуральное число не меньшее 2: 4\n",
            "2\n"
          ]
        }
      ],
      "source": [
        "import math\n",
        "\n",
        "def smallest_divisor(n):\n",
        "    for i in range(2, int(math.sqrt(n)) + 1):\n",
        "        if n % i == 0:\n",
        "            return i\n",
        "    return n\n",
        "\n",
        "number = int(input(\"Введите натуральное число не меньшее 2: \"))\n",
        "print(smallest_divisor(number))"
      ]
    },
    {
      "cell_type": "markdown",
      "source": [
        "Последовательность Фибоначчи определяется так:\n",
        "φ0=0,  φ1=1, ..., φn=φn-1+φn-2.\n",
        "По данному числу n определите n-е число Фибоначчи φn.\n",
        "Входные данные\n",
        "Вводится натуральное число n.\n",
        "Выходные данные\n",
        "Выведите ответ на задачу."
      ],
      "metadata": {
        "id": "WQLm082OZ5in"
      }
    },
    {
      "cell_type": "code",
      "source": [
        "def fibonacci(n):\n",
        "    if n == 0:\n",
        "        return 0\n",
        "    elif n == 1:\n",
        "        return 1\n",
        "\n",
        "    a, b = 0, 1\n",
        "    for _ in range(2, n + 1):\n",
        "        a, b = b, a + b\n",
        "    return b\n",
        "n = int(input(\"Ввести натуральное число n: \"))\n",
        "print(fibonacci(n))"
      ],
      "metadata": {
        "colab": {
          "base_uri": "https://localhost:8080/"
        },
        "id": "eD44KV4kZlLi",
        "outputId": "0112a136-ad9d-4006-90c0-cf12251d33fd"
      },
      "execution_count": 3,
      "outputs": [
        {
          "output_type": "stream",
          "name": "stdout",
          "text": [
            "Ввести натуральное число n: 2\n",
            "1\n"
          ]
        }
      ]
    },
    {
      "cell_type": "markdown",
      "source": [
        "Программа получает на вход последовательность целых неотрицательных чисел, каждое число записано в отдельной строке. Последовательность завершается числом 0, при считывании которого программа должна закончить свою работу.Найдите сумму чисел данной последовательности. При решении данной задачи нельзя использовать массивы, задачу необходимо решить используя только переменные."
      ],
      "metadata": {
        "id": "Fcujh4eWZ-zP"
      }
    },
    {
      "cell_type": "code",
      "source": [
        "total_sum = 0\n",
        "\n",
        "while True:\n",
        "    number = int(input(\"Введите целое неотрицательное число (0 для завершения): \"))\n",
        "\n",
        "    if number == 0:\n",
        "        break\n",
        "\n",
        "    total_sum += number\n",
        "\n",
        "print(\"Сумма введенных чисел:\", total_sum)\n"
      ],
      "metadata": {
        "colab": {
          "base_uri": "https://localhost:8080/"
        },
        "id": "DDRNvqOkZ-D6",
        "outputId": "3becda4d-3baf-4e39-977e-82e35f0c7a37"
      },
      "execution_count": 4,
      "outputs": [
        {
          "output_type": "stream",
          "name": "stdout",
          "text": [
            "Введите целое неотрицательное число (0 для завершения): 1\n",
            "Введите целое неотрицательное число (0 для завершения): 0\n",
            "Сумма введенных чисел: 1\n"
          ]
        }
      ]
    },
    {
      "cell_type": "markdown",
      "source": [
        "Последовательность состоит из натуральных чисел и завершается числом 0. Определите, сколько элементов этой последовательности больше предыдущего элемента.\n",
        "Числа, следующие за числом 0, считывать не нужно. При решении данной задачи нельзя использовать массивы, только переменные.\n"
      ],
      "metadata": {
        "id": "88Y7OGB8acvD"
      }
    },
    {
      "cell_type": "code",
      "source": [
        "previous_number = None\n",
        "count = 0\n",
        "\n",
        "while True:\n",
        "  current_number = int(input(\"Ввести натуральное число (0 для завершения): \"))\n",
        "\n",
        "if current_number == 0:\n",
        "  break\n",
        "\n",
        "if previous_number is not None:\n",
        "  if current_number > previous_number:\n",
        "            count += 1\n",
        "previous_number = current_number\n",
        "print(\"Количество элементов, больше предыдущего:\", count)\n"
      ],
      "metadata": {
        "colab": {
          "base_uri": "https://localhost:8080/",
          "height": 356
        },
        "id": "jOg6yvSjanO7",
        "outputId": "fff15523-e010-46ec-81e8-2c6f09214e83"
      },
      "execution_count": 9,
      "outputs": [
        {
          "output_type": "error",
          "ename": "KeyboardInterrupt",
          "evalue": "Interrupted by user",
          "traceback": [
            "\u001b[0;31m---------------------------------------------------------------------------\u001b[0m",
            "\u001b[0;31mKeyboardInterrupt\u001b[0m                         Traceback (most recent call last)",
            "\u001b[0;32m<ipython-input-9-509eec3e5fe4>\u001b[0m in \u001b[0;36m<cell line: 4>\u001b[0;34m()\u001b[0m\n\u001b[1;32m      3\u001b[0m \u001b[0;34m\u001b[0m\u001b[0m\n\u001b[1;32m      4\u001b[0m \u001b[0;32mwhile\u001b[0m \u001b[0;32mTrue\u001b[0m\u001b[0;34m:\u001b[0m\u001b[0;34m\u001b[0m\u001b[0;34m\u001b[0m\u001b[0m\n\u001b[0;32m----> 5\u001b[0;31m   \u001b[0mcurrent_number\u001b[0m \u001b[0;34m=\u001b[0m \u001b[0mint\u001b[0m\u001b[0;34m(\u001b[0m\u001b[0minput\u001b[0m\u001b[0;34m(\u001b[0m\u001b[0;34m\"Ввести натуральное число (0 для завершения): \"\u001b[0m\u001b[0;34m)\u001b[0m\u001b[0;34m)\u001b[0m\u001b[0;34m\u001b[0m\u001b[0;34m\u001b[0m\u001b[0m\n\u001b[0m\u001b[1;32m      6\u001b[0m \u001b[0;34m\u001b[0m\u001b[0m\n\u001b[1;32m      7\u001b[0m \u001b[0;32mif\u001b[0m \u001b[0mcurrent_number\u001b[0m \u001b[0;34m==\u001b[0m \u001b[0;36m0\u001b[0m\u001b[0;34m:\u001b[0m\u001b[0;34m\u001b[0m\u001b[0;34m\u001b[0m\u001b[0m\n",
            "\u001b[0;32m/usr/local/lib/python3.10/dist-packages/ipykernel/kernelbase.py\u001b[0m in \u001b[0;36mraw_input\u001b[0;34m(self, prompt)\u001b[0m\n\u001b[1;32m    849\u001b[0m                 \u001b[0;34m\"raw_input was called, but this frontend does not support input requests.\"\u001b[0m\u001b[0;34m\u001b[0m\u001b[0;34m\u001b[0m\u001b[0m\n\u001b[1;32m    850\u001b[0m             )\n\u001b[0;32m--> 851\u001b[0;31m         return self._input_request(str(prompt),\n\u001b[0m\u001b[1;32m    852\u001b[0m             \u001b[0mself\u001b[0m\u001b[0;34m.\u001b[0m\u001b[0m_parent_ident\u001b[0m\u001b[0;34m,\u001b[0m\u001b[0;34m\u001b[0m\u001b[0;34m\u001b[0m\u001b[0m\n\u001b[1;32m    853\u001b[0m             \u001b[0mself\u001b[0m\u001b[0;34m.\u001b[0m\u001b[0m_parent_header\u001b[0m\u001b[0;34m,\u001b[0m\u001b[0;34m\u001b[0m\u001b[0;34m\u001b[0m\u001b[0m\n",
            "\u001b[0;32m/usr/local/lib/python3.10/dist-packages/ipykernel/kernelbase.py\u001b[0m in \u001b[0;36m_input_request\u001b[0;34m(self, prompt, ident, parent, password)\u001b[0m\n\u001b[1;32m    893\u001b[0m             \u001b[0;32mexcept\u001b[0m \u001b[0mKeyboardInterrupt\u001b[0m\u001b[0;34m:\u001b[0m\u001b[0;34m\u001b[0m\u001b[0;34m\u001b[0m\u001b[0m\n\u001b[1;32m    894\u001b[0m                 \u001b[0;31m# re-raise KeyboardInterrupt, to truncate traceback\u001b[0m\u001b[0;34m\u001b[0m\u001b[0;34m\u001b[0m\u001b[0m\n\u001b[0;32m--> 895\u001b[0;31m                 \u001b[0;32mraise\u001b[0m \u001b[0mKeyboardInterrupt\u001b[0m\u001b[0;34m(\u001b[0m\u001b[0;34m\"Interrupted by user\"\u001b[0m\u001b[0;34m)\u001b[0m \u001b[0;32mfrom\u001b[0m \u001b[0;32mNone\u001b[0m\u001b[0;34m\u001b[0m\u001b[0;34m\u001b[0m\u001b[0m\n\u001b[0m\u001b[1;32m    896\u001b[0m             \u001b[0;32mexcept\u001b[0m \u001b[0mException\u001b[0m \u001b[0;32mas\u001b[0m \u001b[0me\u001b[0m\u001b[0;34m:\u001b[0m\u001b[0;34m\u001b[0m\u001b[0;34m\u001b[0m\u001b[0m\n\u001b[1;32m    897\u001b[0m                 \u001b[0mself\u001b[0m\u001b[0;34m.\u001b[0m\u001b[0mlog\u001b[0m\u001b[0;34m.\u001b[0m\u001b[0mwarning\u001b[0m\u001b[0;34m(\u001b[0m\u001b[0;34m\"Invalid Message:\"\u001b[0m\u001b[0;34m,\u001b[0m \u001b[0mexc_info\u001b[0m\u001b[0;34m=\u001b[0m\u001b[0;32mTrue\u001b[0m\u001b[0;34m)\u001b[0m\u001b[0;34m\u001b[0m\u001b[0;34m\u001b[0m\u001b[0m\n",
            "\u001b[0;31mKeyboardInterrupt\u001b[0m: Interrupted by user"
          ]
        }
      ]
    },
    {
      "cell_type": "markdown",
      "source": [
        "\n",
        "Дано натуральное число N. Выведите его представление в двоичном виде в обратном порядке.\n",
        "---\n",
        "\n"
      ],
      "metadata": {
        "id": "S45O1ZX-cA9L"
      }
    },
    {
      "cell_type": "code",
      "source": [
        "\n",
        "N = int(input(\"Введите натуральное число N: \"))\n",
        "\n",
        "\n",
        "binary_representation = bin(N)[2:]\n",
        "\n",
        "reversed_binary = binary_representation[::-1]\n",
        "\n",
        "print(\"Представление в двоичном виде в обратном порядке:\", reversed_binary)\n"
      ],
      "metadata": {
        "colab": {
          "base_uri": "https://localhost:8080/"
        },
        "id": "CP6mpjAOb-fq",
        "outputId": "92bcb803-818b-4cfb-c503-f6e9f7ea1b4f"
      },
      "execution_count": 10,
      "outputs": [
        {
          "output_type": "stream",
          "name": "stdout",
          "text": [
            "Введите натуральное число N: 5\n",
            "Представление в двоичном виде в обратном порядке: 101\n"
          ]
        }
      ]
    },
    {
      "cell_type": "markdown",
      "source": [
        "Назовем число палиндромом, если оно не меняется при перестановке его цифр в обратном порядке. Напишите программу, которая по заданному числу K выводит количество натуральных палиндромов, не превосходящих K."
      ],
      "metadata": {
        "id": "j9DljUC-ccgg"
      }
    },
    {
      "cell_type": "code",
      "source": [
        "def is_palindrome(n):\n",
        "    return str(n) == str(n)[::-1]\n",
        "\n",
        "def count_palindromes(K):\n",
        "    count = 0\n",
        "    for i in range(1, K + 1):\n",
        "      if is_palindrome(i):\n",
        "            count += 1\n",
        "            return count\n",
        "K = int(input(\"Введите натуральное число K: \"))\n",
        "palindrome_count = count_palindromes(K)\n",
        "print(\"Количество натуральных палиндромов, не превосходящих K:\", palindrome_count)\n"
      ],
      "metadata": {
        "colab": {
          "base_uri": "https://localhost:8080/"
        },
        "id": "F4AoRMK4cgLP",
        "outputId": "a0aa861c-a5ec-4925-f905-38843b037f54"
      },
      "execution_count": 11,
      "outputs": [
        {
          "output_type": "stream",
          "name": "stdout",
          "text": [
            "Введите натуральное число K: 5\n",
            "Количество натуральных палиндромов, не превосходящих K: 1\n"
          ]
        }
      ]
    },
    {
      "cell_type": "markdown",
      "source": [
        "\"ГНЧЭ-1\"  – сложное электронное устройство, выдающее каждую секунду очередное число последовательности 1, 2, 2, 3, 3, 3, 4, 4, 4, 4, 5... Ввиду дороговизны электронных комплектующих вам поручено разработать эмулятор для этого устройства.\n"
      ],
      "metadata": {
        "id": "2zzv8oYudKEo"
      }
    },
    {
      "cell_type": "code",
      "source": [
        "def get_number_in_sequence(n):\n",
        "    current_number = 1\n",
        "    current_count = 0\n",
        "\n",
        "    while True:\n",
        "        for _ in range(current_number):\n",
        "            current_count += 1\n",
        "\n",
        "            if current_count == n:\n",
        "              return current_number\n",
        "              current_number += 1\n",
        "n = int(input(\"Ввести номер члена последовательности: \"))\n",
        "result = get_number_in_sequence(n)\n",
        "print(f\"Число на позиции {n} в последовательности: {result}\")\n"
      ],
      "metadata": {
        "colab": {
          "base_uri": "https://localhost:8080/"
        },
        "id": "x3zyIv-AdSi7",
        "outputId": "3de601d9-2209-4ded-8351-fe2ec1979d04"
      },
      "execution_count": 12,
      "outputs": [
        {
          "output_type": "stream",
          "name": "stdout",
          "text": [
            "Ввести номер члена последовательности: 6\n",
            "Число на позиции 6 в последовательности: 1\n"
          ]
        }
      ]
    },
    {
      "cell_type": "markdown",
      "source": [
        "По данному действительному числу a и натуральному n вычислите сумму 1+a+a2+...+an, не используя формулу суммы геометрической прогрессии. Время работы программы должно быть пропорционально n."
      ],
      "metadata": {
        "id": "NQM-q3A4d98j"
      }
    },
    {
      "cell_type": "code",
      "source": [
        "def calculate_sum(a, n):\n",
        "    total_sum = 0\n",
        "    current_term = 1\n",
        "    for i in range(n + 1):\n",
        "        total_sum += current_term\n",
        "        current_term *= a\n",
        "\n",
        "    return total_sum\n",
        "\n",
        "a = float(input(\"Введите действительное число a: \"))\n",
        "n = int(input(\"Введите натуральное число n: \"))\n",
        "result = calculate_sum(a, n)\n",
        "print(f\"Сумма 1 + a + a^2 + ... + a^{n} = {result}\")\n"
      ],
      "metadata": {
        "colab": {
          "base_uri": "https://localhost:8080/"
        },
        "id": "EbqO9xR6eCKW",
        "outputId": "53c814c4-837d-4530-dd6f-9d7f82d0ae20"
      },
      "execution_count": 13,
      "outputs": [
        {
          "output_type": "stream",
          "name": "stdout",
          "text": [
            "Введите действительное число a: 4\n",
            "Введите натуральное число n: 6\n",
            "Сумма 1 + a + a^2 + ... + a^6 = 5461.0\n"
          ]
        }
      ]
    },
    {
      "cell_type": "markdown",
      "source": [
        "Вклад в банке составляет x рублей. Ежегодно он увеличивается на p процентов, после чего дробная часть копеек отбрасывается. Каждый год сумма вклада становится больше. Определите, через сколько лет вклад составит не менее y рублей."
      ],
      "metadata": {
        "id": "ZGCqZwX1enQV"
      }
    },
    {
      "cell_type": "code",
      "source": [
        "def years_to_reach_target(x, p, y):\n",
        "    current_amount = x\n",
        "    years = 0\n",
        "    while current_amount < y:\n",
        "        current_amount += int(current_amount * (p / 100))\n",
        "        years += 1\n",
        "        return years\n",
        "x = float(input(\"Введите начальный вклад (x) в рублях: \"))\n",
        "p = float(input(\"Введите процент увеличения (p): \"))\n",
        "y = float(input(\"Введите целевую сумму (y) в рублях: \"))\n",
        "result = years_to_reach_target(x, p, y)\n",
        "print(f\"Вклад достигнет суммы не менее {y} рублей через {result} лет.\")\n"
      ],
      "metadata": {
        "colab": {
          "base_uri": "https://localhost:8080/"
        },
        "id": "Sin9gEbxetU6",
        "outputId": "9d7070bb-2da4-4650-e5f4-3bbce97755eb"
      },
      "execution_count": 14,
      "outputs": [
        {
          "output_type": "stream",
          "name": "stdout",
          "text": [
            "Введите начальный вклад (x) в рублях: 1000\n",
            "Введите процент увеличения (p): 5\n",
            "Введите целевую сумму (y) в рублях: 1500\n",
            "Вклад достигнет суммы не менее 1500.0 рублей через 1 лет.\n"
          ]
        }
      ]
    },
    {
      "cell_type": "markdown",
      "source": [
        "По данному числу N распечатайте все целые степени двойки, не превосходящие N, в порядке возрастания.\n",
        "Операцией возведения в степень пользоваться нельзя!"
      ],
      "metadata": {
        "id": "dtuYnV_EfKuU"
      }
    },
    {
      "cell_type": "code",
      "source": [
        "def print_powers_of_two(N):\n",
        "    power_of_two = 1\n",
        "    while power_of_two <= N:\n",
        "        print(power_of_two)\n",
        "        power_of_two *= 2\n",
        "N = int(input(\"Введите число N: \"))\n",
        "print_powers_of_two(N)\n"
      ],
      "metadata": {
        "colab": {
          "base_uri": "https://localhost:8080/"
        },
        "id": "b6Y6FkgifQTz",
        "outputId": "04f9371f-b0e6-4381-973f-9995cc0cd8ee"
      },
      "execution_count": 15,
      "outputs": [
        {
          "output_type": "stream",
          "name": "stdout",
          "text": [
            "Введите число N: 6\n",
            "1\n",
            "2\n",
            "4\n"
          ]
        }
      ]
    },
    {
      "cell_type": "markdown",
      "source": [
        "Подсчитайте, сколько среди данных N чисел нулей, положительных чисел, отрицательных чисел.\n"
      ],
      "metadata": {
        "id": "JfHwHfakfbjU"
      }
    },
    {
      "cell_type": "code",
      "source": [
        "def count_numbers(N, numbers):\n",
        "    count_positive = 0\n",
        "    count_negative = 0\n",
        "    count_zeros = 0\n",
        "    for number in numbers:\n",
        "        if number > 0:\n",
        "            count_positive += 1\n",
        "        elif number < 0:\n",
        "            count_negative += 1\n",
        "        else:\n",
        "            count_zeros += 1\n",
        "\n",
        "    return count_positive, count_negative, count_zeros\n",
        "N = int(input(\"Введите количество чисел N: \"))\n",
        "numbers = []\n",
        "\n",
        "for i in range(N):\n",
        "    num = int(input(f\"Введите число {i + 1}: \"))\n",
        "    numbers.append(num)\n",
        "positives, negatives, zeros = count_numbers(N, numbers)\n",
        "\n",
        "print(f\"Нулей: {zeros}\")\n",
        "print(f\"Положительных чисел: {positives}\")\n",
        "print(f\"Отрицательных чисел: {negatives}\")\n"
      ],
      "metadata": {
        "colab": {
          "base_uri": "https://localhost:8080/"
        },
        "id": "I_5b4ldbffZI",
        "outputId": "4ecd9747-4d45-45ef-833e-f7295f795a64"
      },
      "execution_count": 30,
      "outputs": [
        {
          "output_type": "stream",
          "name": "stdout",
          "text": [
            "Введите количество чисел N: 6\n",
            "Введите число 1: -5\n",
            "Введите число 2: 3\n",
            "Введите число 3: -1\n",
            "Введите число 4: 0\n",
            "Введите число 5: 4\n",
            "Введите число 6: -8\n",
            "Нулей: 1\n",
            "Положительных чисел: 2\n",
            "Отрицательных чисел: 3\n"
          ]
        }
      ]
    }
  ]
}