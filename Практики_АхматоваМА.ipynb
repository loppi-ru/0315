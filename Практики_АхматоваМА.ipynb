{
  "nbformat": 4,
  "nbformat_minor": 0,
  "metadata": {
    "colab": {
      "provenance": [],
      "authorship_tag": "ABX9TyMtmtKEyWQFN35ljLdx2Eqr",
      "include_colab_link": true
    },
    "kernelspec": {
      "name": "python3",
      "display_name": "Python 3"
    },
    "language_info": {
      "name": "python"
    }
  },
  "cells": [
    {
      "cell_type": "markdown",
      "metadata": {
        "id": "view-in-github",
        "colab_type": "text"
      },
      "source": [
        "<a href=\"https://colab.research.google.com/github/loppi-ru/0315/blob/main/%D0%9F%D1%80%D0%B0%D0%BA%D1%82%D0%B8%D0%BA%D0%B8_%D0%90%D1%85%D0%BC%D0%B0%D1%82%D0%BE%D0%B2%D0%B0%D0%9C%D0%90.ipynb\" target=\"_parent\"><img src=\"https://colab.research.google.com/assets/colab-badge.svg\" alt=\"Open In Colab\"/></a>"
      ]
    },
    {
      "cell_type": "markdown",
      "source": [
        "Практика 2"
      ],
      "metadata": {
        "id": "2DHv4Rfad3kE"
      }
    },
    {
      "cell_type": "markdown",
      "source": [
        "задание 1"
      ],
      "metadata": {
        "id": "7vAPdxgad1ly"
      }
    },
    {
      "cell_type": "code",
      "source": [
        "a = 5\n",
        "b = 8\n",
        "c = a * b / 2\n",
        "print (c)"
      ],
      "metadata": {
        "colab": {
          "base_uri": "https://localhost:8080/"
        },
        "id": "lC9qtHwkdzKd",
        "outputId": "4ffa78a1-df51-4e9e-ef39-c9286a3a683c"
      },
      "execution_count": 30,
      "outputs": [
        {
          "output_type": "stream",
          "name": "stdout",
          "text": [
            "20.0\n"
          ]
        }
      ]
    },
    {
      "cell_type": "markdown",
      "source": [
        "задание 2"
      ],
      "metadata": {
        "id": "OEZSkYBldu2D"
      }
    },
    {
      "cell_type": "code",
      "source": [
        "N = 456\n",
        "\n",
        "s = N // 100\n",
        "d = (N // 10) % 10\n",
        "e = N % 10\n",
        "\n",
        "print(\"Сотни:\", s)\n",
        "print(\"Десятки:\", d)\n",
        "print(\"Единицы:\", e)"
      ],
      "metadata": {
        "colab": {
          "base_uri": "https://localhost:8080/"
        },
        "id": "CWMG6CqTdrqL",
        "outputId": "a0a41a95-b5b0-42b2-dbce-e76c7c8c4a35"
      },
      "execution_count": 29,
      "outputs": [
        {
          "output_type": "stream",
          "name": "stdout",
          "text": [
            "Сотни: 4\n",
            "Десятки: 5\n",
            "Единицы: 6\n"
          ]
        }
      ]
    },
    {
      "cell_type": "markdown",
      "source": [
        "задание 3"
      ],
      "metadata": {
        "id": "xUdX3R3Ldo9L"
      }
    },
    {
      "cell_type": "code",
      "source": [
        "n = 3665\n",
        "hours = n // 3600\n",
        "minutes = (n % 3600) // 60\n",
        "seconds = n % 60\n",
        "\n",
        "print (\"Сейчас {hours:02}:{minutes:02}:{seconds:02}\")"
      ],
      "metadata": {
        "colab": {
          "base_uri": "https://localhost:8080/"
        },
        "id": "qVXGy2sKdk9R",
        "outputId": "d042c66b-6c48-46c6-c971-54a16070f6de"
      },
      "execution_count": 28,
      "outputs": [
        {
          "output_type": "stream",
          "name": "stdout",
          "text": [
            "Сейчас {hours:02}:{minutes:02}:{seconds:02}\n"
          ]
        }
      ]
    },
    {
      "cell_type": "markdown",
      "source": [
        "Практика 3"
      ],
      "metadata": {
        "id": "FHZ4iZcOdiN4"
      }
    },
    {
      "cell_type": "markdown",
      "source": [
        "задание 1"
      ],
      "metadata": {
        "id": "3K_Xb4fLdcU6"
      }
    },
    {
      "cell_type": "code",
      "source": [
        "input = \"абв, абвг, вбгд, абд\"\n",
        "parts = input.split(\", \")\n",
        "lengths = [len(part) for part in parts]\n",
        "print(\",\".join(map(str, lengths)))"
      ],
      "metadata": {
        "colab": {
          "base_uri": "https://localhost:8080/"
        },
        "id": "ybQPE2eLdZYJ",
        "outputId": "dcc89ea2-af4d-4791-f190-cdad96d387b0"
      },
      "execution_count": 27,
      "outputs": [
        {
          "output_type": "stream",
          "name": "stdout",
          "text": [
            "3,4,4,3\n"
          ]
        }
      ]
    },
    {
      "cell_type": "markdown",
      "source": [
        "задание 2"
      ],
      "metadata": {
        "id": "ntMskKmkdVfc"
      }
    },
    {
      "cell_type": "code",
      "source": [
        "stroka = \"Привет, мир\"\n",
        "n = 8\n",
        "m = 5\n",
        "import re\n",
        "\n",
        "мир = re.findall(r'\\b\\w+\\b', stroka)\n",
        "\n",
        "first_part_limit = min(n, len(stroka))\n",
        "first_part_string = stroka[:first_part_limit]\n",
        "first_part = re.findall(r'\\b\\w+\\b', first_part_string)\n",
        "second_part_string = stroka[m:]\n",
        "second_part = re.findall(r'\\b\\w+\\b', second_part_string)\n",
        "print(first_part)\n",
        "print(second_part)"
      ],
      "metadata": {
        "colab": {
          "base_uri": "https://localhost:8080/"
        },
        "id": "IatL73UrdOg2",
        "outputId": "4761c8a9-4fc8-4b43-e864-0bb265fdf085"
      },
      "execution_count": 26,
      "outputs": [
        {
          "output_type": "stream",
          "name": "stdout",
          "text": [
            "['Привет']\n",
            "['т', 'мир']\n"
          ]
        }
      ]
    },
    {
      "cell_type": "markdown",
      "source": [
        "Практика 4"
      ],
      "metadata": {
        "id": "9wWyPuj0We7N"
      }
    },
    {
      "cell_type": "markdown",
      "source": [
        "задание 1"
      ],
      "metadata": {
        "id": "OL9FeYPgWJpq"
      }
    },
    {
      "cell_type": "code",
      "execution_count": 1,
      "metadata": {
        "colab": {
          "base_uri": "https://localhost:8080/"
        },
        "id": "OSnTECrBV0R7",
        "outputId": "c6aa4762-6981-4d2d-a355-0fd7d617a369"
      },
      "outputs": [
        {
          "output_type": "stream",
          "name": "stdout",
          "text": [
            "500\n",
            "Other\n"
          ]
        }
      ],
      "source": [
        "b = int(input())\n",
        "match b:\n",
        "  case 400:\n",
        "    print(\"Неправильный запрос\")\n",
        "  case 401:\n",
        "    print(\"Unauthorized\")\n",
        "  case 402:\n",
        "    print(\"Payment Required\")\n",
        "  case 403:\n",
        "    print(\"Forbidden\")\n",
        "  case 404:\n",
        "    print(\"NotFound\")\n",
        "  case 405:\n",
        "    print(\"Method Not Allowed\")\n",
        "  case _:\n",
        "    print(\"Other\")"
      ]
    },
    {
      "cell_type": "markdown",
      "source": [
        "задание 2"
      ],
      "metadata": {
        "id": "K9UNfraQWNYz"
      }
    },
    {
      "cell_type": "code",
      "source": [
        "a = int(input())\n",
        "b = int(input())\n",
        "if (a > 0 and b > 0):\n",
        "  print(\"Точка в первой четверти\")\n",
        "if (a < 0 and b > 0):\n",
        "  print(\"Точка во второй четверти\")\n",
        "if (a < 0 and b < 0):\n",
        "  print(\"Точка в третьей четверти\")\n",
        "if (a > 0 and b < 0):\n",
        "  print(\"Точка в четвертой четверти\")"
      ],
      "metadata": {
        "colab": {
          "base_uri": "https://localhost:8080/"
        },
        "id": "3AoO1xYwWOw_",
        "outputId": "a5bfb45f-b311-4af9-c48f-547a53ff2487"
      },
      "execution_count": 2,
      "outputs": [
        {
          "output_type": "stream",
          "name": "stdout",
          "text": [
            "50\n",
            "100\n",
            "Точка в первой четверти\n"
          ]
        }
      ]
    },
    {
      "cell_type": "markdown",
      "source": [
        "задание 3"
      ],
      "metadata": {
        "id": "QU-EhshzWV0K"
      }
    },
    {
      "cell_type": "code",
      "source": [
        "b = int(input(\"Введите год:\"))\n",
        "if (b % 4 != 0):\n",
        "  print(\"Год не является високосным\")\n",
        "\n",
        "elif (b % 100 == 0 and b % 400 == 0):\n",
        "  print(\"Год является високосным\")\n",
        "else:\n",
        "  print(\"Год является високосным\")"
      ],
      "metadata": {
        "colab": {
          "base_uri": "https://localhost:8080/"
        },
        "id": "uXH-e5G_WYbD",
        "outputId": "81ae0f00-f2c3-45ce-c371-9e05e2d52e0b"
      },
      "execution_count": 3,
      "outputs": [
        {
          "output_type": "stream",
          "name": "stdout",
          "text": [
            "Введите год:2024\n",
            "Год является високосным\n"
          ]
        }
      ]
    },
    {
      "cell_type": "markdown",
      "source": [
        "Практика 5"
      ],
      "metadata": {
        "id": "yB1zSll8WkQv"
      }
    },
    {
      "cell_type": "markdown",
      "source": [
        "задание 1"
      ],
      "metadata": {
        "id": "npyFVrRQWlug"
      }
    },
    {
      "cell_type": "code",
      "source": [
        "n = int(input(\"Введите начальное число n: \"))\n",
        "m = int(input(\"Введите конечное число m: \"))\n",
        "\n",
        "suma = sum(range(n, m + 1))\n",
        "\n",
        "print(f\"Сумма чисел от {n} до {m} равна {suma}.\")\n"
      ],
      "metadata": {
        "colab": {
          "base_uri": "https://localhost:8080/"
        },
        "id": "dO9W6Fn6Wmn2",
        "outputId": "2c2085d5-069c-4e4b-8aa4-9c79984adc0b"
      },
      "execution_count": 4,
      "outputs": [
        {
          "output_type": "stream",
          "name": "stdout",
          "text": [
            "Введите начальное число n: 10\n",
            "Введите конечное число m: 20\n",
            "Сумма чисел от 10 до 20 равна 165.\n"
          ]
        }
      ]
    },
    {
      "cell_type": "markdown",
      "source": [
        "задание 2"
      ],
      "metadata": {
        "id": "Fwx8UVMrXGZD"
      }
    },
    {
      "cell_type": "code",
      "source": [
        "while True:\n",
        "    n = float(input(\"Первое число n: \"))\n",
        "    m = float(input(\"Второе число m: \"))\n",
        "    if n == m:\n",
        "        print(\"Ввели одинаковые числа\")\n",
        "        break\n",
        "    suma = n + m\n",
        "    print(f\"Сумма {n} и {m} равна {suma}.\")"
      ],
      "metadata": {
        "colab": {
          "base_uri": "https://localhost:8080/"
        },
        "id": "joyszemhXHXx",
        "outputId": "d4173c06-d700-4642-a07b-67b1cc441e3d"
      },
      "execution_count": 5,
      "outputs": [
        {
          "output_type": "stream",
          "name": "stdout",
          "text": [
            "Первое число n: 10\n",
            "Второе число m: 20\n",
            "Сумма 10.0 и 20.0 равна 30.0.\n",
            "Первое число n: 10\n",
            "Второе число m: 10\n",
            "Ввели одинаковые числа\n"
          ]
        }
      ]
    },
    {
      "cell_type": "markdown",
      "source": [
        "Практика 6"
      ],
      "metadata": {
        "id": "f-tOtRm9YnGW"
      }
    },
    {
      "cell_type": "markdown",
      "source": [
        "задание 1"
      ],
      "metadata": {
        "id": "dxmZwrbiYpVA"
      }
    },
    {
      "cell_type": "code",
      "source": [
        "numbers = []\n",
        "squares = []\n",
        "cubes = []\n",
        "\n",
        "for i in range(1, 11):\n",
        "    numbers.append(i)\n",
        "    squares.append(i ** 2)\n",
        "    cubes.append(i ** 3)\n",
        "\n",
        "print(\"Числа:\", numbers)\n",
        "print(\"Квадраты:\", squares)\n",
        "print(\"Кубы:\", cubes)"
      ],
      "metadata": {
        "colab": {
          "base_uri": "https://localhost:8080/"
        },
        "id": "dh1kucZHYtQf",
        "outputId": "f15186b0-0156-4f3d-87f5-ce7326579436"
      },
      "execution_count": 11,
      "outputs": [
        {
          "output_type": "stream",
          "name": "stdout",
          "text": [
            "Числа: [1, 2, 3, 4, 5, 6, 7, 8, 9, 10]\n",
            "Квадраты: [1, 4, 9, 16, 25, 36, 49, 64, 81, 100]\n",
            "Кубы: [1, 8, 27, 64, 125, 216, 343, 512, 729, 1000]\n"
          ]
        }
      ]
    },
    {
      "cell_type": "markdown",
      "source": [
        "задание 2"
      ],
      "metadata": {
        "id": "mhKDngKgY7LK"
      }
    },
    {
      "cell_type": "code",
      "source": [
        "numbers = []\n",
        "while True:\n",
        "    num = int(input(\"Введите число (0 для завершения): \"))\n",
        "    if num == 0:\n",
        "        break\n",
        "    numbers.append(num)\n",
        "\n",
        "if numbers:\n",
        "    min_value = min(numbers)\n",
        "    max_value = max(numbers)\n",
        "    sorted_asc = sorted(numbers)\n",
        "    sorted_desc = sorted(numbers, reverse=True)\n",
        "    count_elements = len(numbers)\n",
        "    count_ones = numbers.count(1)\n",
        "    sum_numbers = sum(numbers)\n",
        "    last_index = len(numbers) - 1\n",
        "    last_value = numbers[last_index]\n",
        "\n",
        "    print(\"Минимальное значение:\", min_value)\n",
        "    print(\"Максимальное значение:\", max_value)\n",
        "    print(\"Отсортированный по возрастанию список:\", sorted_asc)\n",
        "    print(\"Отсортированный по убыванию список:\", sorted_desc)\n",
        "    print(\"Количество элементов в списке:\", count_elements)\n",
        "    print(\"Количество единиц в списке:\", count_ones)\n",
        "    print(\"Сумма всех чисел:\", sum_numbers)\n",
        "    print(\"Индекс последнего введенного элемента:\", last_index)\n",
        "    print(\"Значение последнего введенного элемента:\", last_value)\n",
        "else:\n",
        "    print(\"Список пуст.\")"
      ],
      "metadata": {
        "colab": {
          "base_uri": "https://localhost:8080/"
        },
        "id": "EZurGKSLY9mJ",
        "outputId": "cc644714-e098-4963-d41f-07c12a68dc67"
      },
      "execution_count": 12,
      "outputs": [
        {
          "output_type": "stream",
          "name": "stdout",
          "text": [
            "Введите число (0 для завершения): 2\n",
            "Введите число (0 для завершения): 7\n",
            "Введите число (0 для завершения): 0\n",
            "Минимальное значение: 2\n",
            "Максимальное значение: 7\n",
            "Отсортированный по возрастанию список: [2, 7]\n",
            "Отсортированный по убыванию список: [7, 2]\n",
            "Количество элементов в списке: 2\n",
            "Количество единиц в списке: 0\n",
            "Сумма всех чисел: 9\n",
            "Индекс последнего введенного элемента: 1\n",
            "Значение последнего введенного элемента: 7\n"
          ]
        }
      ]
    },
    {
      "cell_type": "markdown",
      "source": [
        "задание 3"
      ],
      "metadata": {
        "id": "QezLbNg_ZSs2"
      }
    },
    {
      "cell_type": "code",
      "source": [
        "numbers = []\n",
        "while True:\n",
        "    num = int(input(\"Введите число (0 для завершения): \"))\n",
        "    if num == 0:\n",
        "        break\n",
        "    if num % 2 == 0:\n",
        "        numbers.append(num)\n",
        "\n",
        "numbers = [num for num in numbers if num % 10 != 0]\n",
        "\n",
        "print(\"Итоговый список:\", numbers)"
      ],
      "metadata": {
        "colab": {
          "base_uri": "https://localhost:8080/"
        },
        "id": "8e_8O3pkZT6e",
        "outputId": "430a6aab-9b32-4ed7-dc41-87863f2999c0"
      },
      "execution_count": 15,
      "outputs": [
        {
          "output_type": "stream",
          "name": "stdout",
          "text": [
            "Введите число (0 для завершения): 2\n",
            "Введите число (0 для завершения): 5\n",
            "Введите число (0 для завершения): 10\n",
            "Введите число (0 для завершения): 0\n",
            "Итоговый список: [2]\n"
          ]
        }
      ]
    },
    {
      "cell_type": "markdown",
      "source": [
        "Практика 7"
      ],
      "metadata": {
        "id": "dyVNNjm8Z92k"
      }
    },
    {
      "cell_type": "markdown",
      "source": [
        "задание 1"
      ],
      "metadata": {
        "id": "MdvE3T1OaJo-"
      }
    },
    {
      "cell_type": "code",
      "source": [
        "import numpy as np\n",
        "\n",
        "n = int(input(\"Введите размер матрицы n: \"))\n",
        "\n",
        "matrix = np.arange(1, n*n + 1).reshape(n, n)\n",
        "\n",
        "print(\"Полученная матрица:\")\n",
        "print(matrix)\n",
        "\n",
        "determinant = np.linalg.det(matrix)\n",
        "\n",
        "print(\"Определитель матрицы:\", determinant)"
      ],
      "metadata": {
        "colab": {
          "base_uri": "https://localhost:8080/"
        },
        "id": "UswHl7EUZ_yd",
        "outputId": "5d110449-3f49-41d9-e58a-025bc0b23968"
      },
      "execution_count": 16,
      "outputs": [
        {
          "output_type": "stream",
          "name": "stdout",
          "text": [
            "Введите размер матрицы n: 4\n",
            "Полученная матрица:\n",
            "[[ 1  2  3  4]\n",
            " [ 5  6  7  8]\n",
            " [ 9 10 11 12]\n",
            " [13 14 15 16]]\n",
            "Определитель матрицы: 0.0\n"
          ]
        }
      ]
    },
    {
      "cell_type": "markdown",
      "source": [
        "задание 2"
      ],
      "metadata": {
        "id": "Rc7DYDP4aM8y"
      }
    },
    {
      "cell_type": "code",
      "source": [
        "import pandas as pd\n",
        "\n",
        "data = {\n",
        "    'ФИО': ['Петров', 'Иванов', 'Сидорова'],\n",
        "    'Балл по программированию': [78, 56, 81],\n",
        "    'Балл по ОБЖ': [93, 67, 75],\n",
        "    'Балл по алгебре': [61, 73, 70]\n",
        "}\n",
        "\n",
        "df = pd.DataFrame(data)\n",
        "\n",
        "average_scores = df[['Балл по программированию', 'Балл по ОБЖ', 'Балл по алгебре']].mean()\n",
        "\n",
        "highest_avg_subject = average_scores.idxmax()\n",
        "highest_avg_score = average_scores.max()\n",
        "\n",
        "df['Средний балл'] = df[['Балл по программированию', 'Балл по ОБЖ', 'Балл по алгебре']].mean(axis=1)\n",
        "top_student = df.loc[df['Средний балл'].idxmax(), 'ФИО']\n",
        "top_student_score = df['Средний балл'].max()\n",
        "\n",
        "print(\"Самый высокий средний балл по предмету:\", highest_avg_subject, \"с баллом\", highest_avg_score)\n",
        "print(\"Ученик, который больше других преуспевает по всем предметам:\", top_student, \"со средним баллом\", top_student_score)"
      ],
      "metadata": {
        "colab": {
          "base_uri": "https://localhost:8080/"
        },
        "id": "un1WkWQraN_G",
        "outputId": "85d5ce2b-e67c-475a-c496-d95c79b015bc"
      },
      "execution_count": 17,
      "outputs": [
        {
          "output_type": "stream",
          "name": "stdout",
          "text": [
            "Самый высокий средний балл по предмету: Балл по ОБЖ с баллом 78.33333333333333\n",
            "Ученик, который больше других преуспевает по всем предметам: Петров со средним баллом 77.33333333333333\n"
          ]
        }
      ]
    },
    {
      "cell_type": "markdown",
      "source": [
        "Практика 9"
      ],
      "metadata": {
        "id": "pgyEcL55aS5y"
      }
    },
    {
      "cell_type": "markdown",
      "source": [
        "задание 1"
      ],
      "metadata": {
        "id": "ipAYiRYAaU4m"
      }
    },
    {
      "cell_type": "code",
      "source": [
        "numbers = []\n",
        "count_dict = {}\n",
        "\n",
        "while True:\n",
        "    num = int(input(\"Введите число (0 для завершения): \"))\n",
        "    if num == 0:\n",
        "        break\n",
        "    numbers.append(num)\n",
        "for number in numbers:\n",
        "    if number in count_dict:\n",
        "        count_dict[number] += 1\n",
        "    else:\n",
        "        count_dict[number] = 1\n",
        "\n",
        "unique_numbers = list(count_dict.keys())\n",
        "\n",
        "print(\"Словарь с количеством вхождений:\", count_dict)\n",
        "print(\"Список уникальных чисел:\", unique_numbers)"
      ],
      "metadata": {
        "colab": {
          "base_uri": "https://localhost:8080/"
        },
        "id": "9-sX4V54aWTC",
        "outputId": "1b4b5583-7b3a-40c8-82fe-84a484766bc6"
      },
      "execution_count": 18,
      "outputs": [
        {
          "output_type": "stream",
          "name": "stdout",
          "text": [
            "Введите число (0 для завершения): 7\n",
            "Введите число (0 для завершения): 9\n",
            "Введите число (0 для завершения): 12\n",
            "Введите число (0 для завершения): 0\n",
            "Словарь с количеством вхождений: {7: 1, 9: 1, 12: 1}\n",
            "Список уникальных чисел: [7, 9, 12]\n"
          ]
        }
      ]
    },
    {
      "cell_type": "markdown",
      "source": [
        "задание 2"
      ],
      "metadata": {
        "id": "TcVs2njtay9l"
      }
    },
    {
      "cell_type": "code",
      "source": [
        "phone_book = {}\n",
        "\n",
        "def add_entry():\n",
        "    name = input(\"Введите имя: \")\n",
        "    phone_number = input(\"Введите номер: \")\n",
        "    phone_book[name] = phone_number\n",
        "    print(f'Добавлена запись \"{name}\": \"{phone_number}\"')\n",
        "\n",
        "def get_number():\n",
        "    name = input(\"Введите имя: \")\n",
        "    if name in phone_book:\n",
        "        print(f'Номер телефона для \"{name}\": \"{phone_book[name]}\"')\n",
        "    else:\n",
        "        print(f'Запись для \"{name}\" не найдена.')\n",
        "\n",
        "command = input(\"Введите add чтобы добавить или who чтобы узнать: \")\n",
        "if command == \"add\":\n",
        "    add_entry()\n",
        "elif command == \"who\":\n",
        "    get_number()\n",
        "else:\n",
        "    print(\"Неверная команда. Пожалуйста, введите 'add' или 'who'.\")\n"
      ],
      "metadata": {
        "colab": {
          "base_uri": "https://localhost:8080/"
        },
        "id": "_XVv0ezAa0IC",
        "outputId": "03ae836f-2cf0-42c3-fea2-2d4a79ba5468"
      },
      "execution_count": 23,
      "outputs": [
        {
          "output_type": "stream",
          "name": "stdout",
          "text": [
            "Введите add чтобы добавить или who чтобы узнать: add\n",
            "Введите имя: madina\n",
            "Введите номер: +79000606955\n",
            "Добавлена запись \"madina\": \"+79000606955\"\n"
          ]
        }
      ]
    },
    {
      "cell_type": "markdown",
      "source": [
        "Практика 10"
      ],
      "metadata": {
        "id": "RDNK-1ffchcY"
      }
    },
    {
      "cell_type": "markdown",
      "source": [
        "задание 1"
      ],
      "metadata": {
        "id": "iGJxq1TocluH"
      }
    },
    {
      "cell_type": "code",
      "source": [
        "def sum_numbers():\n",
        "    total = 0\n",
        "    while True:\n",
        "        number = int(input(\"Введите число (для завершения введите 0): \"))\n",
        "        if number == 0:\n",
        "            break\n",
        "        total += number\n",
        "    return total\n",
        "\n",
        "result = sum_numbers()\n",
        "print(f'Сумма всех введенных чисел: {result}')"
      ],
      "metadata": {
        "colab": {
          "base_uri": "https://localhost:8080/"
        },
        "id": "-8EwT-vhcnFw",
        "outputId": "776b1027-4055-4728-e45a-2bc0e145e88f"
      },
      "execution_count": 24,
      "outputs": [
        {
          "output_type": "stream",
          "name": "stdout",
          "text": [
            "Введите число (для завершения введите 0): 15\n",
            "Введите число (для завершения введите 0): 67\n",
            "Введите число (для завершения введите 0): 0\n",
            "Сумма всех введенных чисел: 82\n"
          ]
        }
      ]
    },
    {
      "cell_type": "markdown",
      "source": [
        "задание 2"
      ],
      "metadata": {
        "id": "NtZC2Y5ac2ru"
      }
    },
    {
      "cell_type": "code",
      "source": [
        "def input_contacts():\n",
        "    contacts = {}\n",
        "    while True:\n",
        "        name = input(\"Введите имя (введите 0 для завершения): \")\n",
        "        phone = input(\"Введите номер телефона (введите 0 для завершения): \")\n",
        "\n",
        "        if name == '0' and phone == '0':\n",
        "            break\n",
        "\n",
        "        contacts[name] = phone\n",
        "    return contacts\n",
        "\n",
        "def get_sorted_phones(contacts):\n",
        "    return sorted(contacts.values())\n",
        "\n",
        "def get_sorted_names(contacts):\n",
        "    return sorted(contacts.keys())\n",
        "\n",
        "contacts = input_contacts()\n",
        "\n",
        "sorted_phones = get_sorted_phones(contacts)\n",
        "sorted_names = get_sorted_names(contacts)\n",
        "\n",
        "print(\"Номера телефонов в порядке возрастания:\", sorted_phones)\n",
        "print(\"Имена в порядке возрастания:\", sorted_names)"
      ],
      "metadata": {
        "colab": {
          "base_uri": "https://localhost:8080/"
        },
        "id": "7lxSxh05c3mG",
        "outputId": "56b66922-de8e-40c4-af5e-61b381e4ffb3"
      },
      "execution_count": 25,
      "outputs": [
        {
          "output_type": "stream",
          "name": "stdout",
          "text": [
            "Введите имя (введите 0 для завершения): мадина\n",
            "Введите номер телефона (введите 0 для завершения): +79000606955\n",
            "Введите имя (введите 0 для завершения): варя\n",
            "Введите номер телефона (введите 0 для завершения): +79958406955\n",
            "Введите имя (введите 0 для завершения): 0\n",
            "Введите номер телефона (введите 0 для завершения): 0\n",
            "Номера телефонов в порядке возрастания: ['+79000606955', '+79958406955']\n",
            "Имена в порядке возрастания: ['варя', 'мадина']\n"
          ]
        }
      ]
    }
  ]
}