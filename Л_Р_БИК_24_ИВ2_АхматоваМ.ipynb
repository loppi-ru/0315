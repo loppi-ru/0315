{
  "nbformat": 4,
  "nbformat_minor": 0,
  "metadata": {
    "colab": {
      "provenance": [],
      "authorship_tag": "ABX9TyM3XhqRMXBpWJasqLvySML1",
      "include_colab_link": true
    },
    "kernelspec": {
      "name": "python3",
      "display_name": "Python 3"
    },
    "language_info": {
      "name": "python"
    }
  },
  "cells": [
    {
      "cell_type": "markdown",
      "metadata": {
        "id": "view-in-github",
        "colab_type": "text"
      },
      "source": [
        "<a href=\"https://colab.research.google.com/github/loppi-ru/0315/blob/main/%D0%9B_%D0%A0_%D0%91%D0%98%D0%9A_24_%D0%98%D0%922_%D0%90%D1%85%D0%BC%D0%B0%D1%82%D0%BE%D0%B2%D0%B0%D0%9C.ipynb\" target=\"_parent\"><img src=\"https://colab.research.google.com/assets/colab-badge.svg\" alt=\"Open In Colab\"/></a>"
      ]
    },
    {
      "cell_type": "markdown",
      "source": [
        "№ 1"
      ],
      "metadata": {
        "id": "7qraTeFvAWCt"
      }
    },
    {
      "cell_type": "code",
      "execution_count": 1,
      "metadata": {
        "colab": {
          "base_uri": "https://localhost:8080/"
        },
        "id": "PKT81mSZAHUu",
        "outputId": "b186c289-4795-4722-928c-0f7f55e2c25f"
      },
      "outputs": [
        {
          "output_type": "stream",
          "name": "stdout",
          "text": [
            "<class 'int'> <class 'float'> <class 'bool'>\n"
          ]
        }
      ],
      "source": [
        "a = 2\n",
        "b = 2.1\n",
        "c = \"Flsda\"\n",
        "d = True\n",
        "print(type(a), type(b), type(d))"
      ]
    },
    {
      "cell_type": "markdown",
      "source": [
        "№ 2"
      ],
      "metadata": {
        "id": "wiAQQ_-_Bohf"
      }
    },
    {
      "cell_type": "code",
      "source": [
        "Name = \"Madina\"\n",
        "Age = \"18\"\n",
        "print(Name, Age)"
      ],
      "metadata": {
        "colab": {
          "base_uri": "https://localhost:8080/"
        },
        "id": "eIYI5fbsBsVz",
        "outputId": "d89f534c-4a9b-4b9a-e630-07bbcaff9584"
      },
      "execution_count": 2,
      "outputs": [
        {
          "output_type": "stream",
          "name": "stdout",
          "text": [
            "Madina 18\n"
          ]
        }
      ]
    },
    {
      "cell_type": "markdown",
      "source": [
        "№ 3"
      ],
      "metadata": {
        "id": "VQsGZFwUCLGO"
      }
    },
    {
      "cell_type": "code",
      "source": [
        "a = 342\n",
        "b = 56.2\n",
        "c = '43'\n",
        "sum = float(a) + b + float(c)\n",
        "print(sum)"
      ],
      "metadata": {
        "colab": {
          "base_uri": "https://localhost:8080/"
        },
        "id": "e6zyhDnnCNe2",
        "outputId": "1aa09a48-2aea-459e-e01b-73f717c1d4a2"
      },
      "execution_count": 3,
      "outputs": [
        {
          "output_type": "stream",
          "name": "stdout",
          "text": [
            "441.2\n"
          ]
        }
      ]
    },
    {
      "cell_type": "markdown",
      "source": [
        "№ 4"
      ],
      "metadata": {
        "id": "b1TvaDntCn2I"
      }
    },
    {
      "cell_type": "code",
      "source": [
        "a = 3\n",
        "b = 8\n",
        "print((a + 4 * b)*(a - 3 * b) + a ** 2)"
      ],
      "metadata": {
        "colab": {
          "base_uri": "https://localhost:8080/"
        },
        "id": "vdaG3SG5Cp21",
        "outputId": "9b391367-83b4-44f4-aa50-42afe7d892a7"
      },
      "execution_count": 4,
      "outputs": [
        {
          "output_type": "stream",
          "name": "stdout",
          "text": [
            "-726\n"
          ]
        }
      ]
    },
    {
      "cell_type": "markdown",
      "source": [
        "№ 5"
      ],
      "metadata": {
        "id": "_l_8EkAwC-0i"
      }
    },
    {
      "cell_type": "code",
      "source": [
        "a = int(input(\"Ширина прямоугольника: \"))\n",
        "b = int(input(\"Длина прямоугольника: \"))\n",
        "S = a * b\n",
        "P = (a + b) * 2\n",
        "print('Площадь = ', S, '\\nПериметр = ', P)"
      ],
      "metadata": {
        "colab": {
          "base_uri": "https://localhost:8080/"
        },
        "id": "dtxN9y8tDCQ4",
        "outputId": "143c6a35-2532-4e8f-a7f1-9ee897d247dc"
      },
      "execution_count": 6,
      "outputs": [
        {
          "output_type": "stream",
          "name": "stdout",
          "text": [
            "Ширина прямоугольника: 5\n",
            "Длина прямоугольника: 20\n",
            "Площадь =  100 \n",
            "Периметр =  50\n"
          ]
        }
      ]
    },
    {
      "cell_type": "markdown",
      "source": [
        "№ 6"
      ],
      "metadata": {
        "id": "EuQXM5izEQcX"
      }
    },
    {
      "cell_type": "code",
      "source": [
        "print(\"*   *   *\")\n",
        "print(\" * * * * \")\n",
        "print(\"  *   *  \")"
      ],
      "metadata": {
        "colab": {
          "base_uri": "https://localhost:8080/"
        },
        "id": "nV4jUq52ESKY",
        "outputId": "632d6805-dcea-4759-8823-d0f04e492535"
      },
      "execution_count": 23,
      "outputs": [
        {
          "output_type": "stream",
          "name": "stdout",
          "text": [
            "*   *   *\n",
            " * * * * \n",
            "  *   *  \n"
          ]
        }
      ]
    },
    {
      "cell_type": "markdown",
      "source": [
        "№ 7"
      ],
      "metadata": {
        "id": "sB77ldUIEkpj"
      }
    },
    {
      "cell_type": "code",
      "source": [
        "a = 2\n",
        "b = 4\n",
        "mi = a - b\n",
        "m = a * b\n",
        "st = a ** b\n",
        "d = a / b\n",
        "dd = a // b\n",
        "ddd = a % b\n",
        "rav = a == b\n",
        "nah = a != b\n",
        "big = a > b\n",
        "smol = a < b\n",
        "da = a >= b\n",
        "no = a <= b\n",
        "\n",
        "print(mi, m, st, d, dd, ddd, rav, nah, big, smol, da, no)"
      ],
      "metadata": {
        "colab": {
          "base_uri": "https://localhost:8080/"
        },
        "id": "ym4ycDOJEmC6",
        "outputId": "2802025d-e075-4cea-d285-495c3c75607e"
      },
      "execution_count": 14,
      "outputs": [
        {
          "output_type": "stream",
          "name": "stdout",
          "text": [
            "-2 8 16 0.5 0 2 False True False True False True\n"
          ]
        }
      ]
    },
    {
      "cell_type": "markdown",
      "source": [
        "№ 8"
      ],
      "metadata": {
        "id": "0F05t7MJHvRU"
      }
    },
    {
      "cell_type": "code",
      "source": [
        "name = 'Madina'\n",
        "age = '18'\n",
        "pon = f\"Меня зовут {name}, мне {age} лет.\"\n",
        "print(pon)"
      ],
      "metadata": {
        "colab": {
          "base_uri": "https://localhost:8080/"
        },
        "id": "7BDU3knxHwqc",
        "outputId": "491dc9b0-2217-4cbb-bc2e-4689d389dd49"
      },
      "execution_count": 15,
      "outputs": [
        {
          "output_type": "stream",
          "name": "stdout",
          "text": [
            "Меня зовут Madina, мне 18 лет.\n"
          ]
        }
      ]
    },
    {
      "cell_type": "markdown",
      "source": [
        "№ 9"
      ],
      "metadata": {
        "id": "GoIBcmaaIpRd"
      }
    },
    {
      "cell_type": "code",
      "source": [
        "a = \"Сьешь еще \"\n",
        "b = \"Этих мягких \"\n",
        "c = \"Французких булок, \"\n",
        "d = \"Да выпей \"\n",
        "e = \"чаю \"\n",
        "print(a + b + c + d + e)"
      ],
      "metadata": {
        "colab": {
          "base_uri": "https://localhost:8080/"
        },
        "id": "_g8166KqIojQ",
        "outputId": "1d824cf9-7ae2-4a32-c2e0-49815a815f1a"
      },
      "execution_count": 18,
      "outputs": [
        {
          "output_type": "stream",
          "name": "stdout",
          "text": [
            "Сьешь еще Этих мягких Французких булок, Да выпей чаю \n"
          ]
        }
      ]
    },
    {
      "cell_type": "markdown",
      "source": [
        "№ 10"
      ],
      "metadata": {
        "id": "pFPLU5b9JZrU"
      }
    },
    {
      "cell_type": "code",
      "source": [
        "a = 'Нет! да!'\n",
        "print(a * 4)"
      ],
      "metadata": {
        "colab": {
          "base_uri": "https://localhost:8080/"
        },
        "id": "Rxqd_HOrJb2b",
        "outputId": "a2986d61-adf4-4e81-8501-f81bf47e56da"
      },
      "execution_count": 20,
      "outputs": [
        {
          "output_type": "stream",
          "name": "stdout",
          "text": [
            "Нет! да!Нет! да!Нет! да!Нет! да!\n"
          ]
        }
      ]
    },
    {
      "cell_type": "markdown",
      "source": [
        "№ 11"
      ],
      "metadata": {
        "id": "CxelOhK-Joxz"
      }
    },
    {
      "cell_type": "code",
      "source": [
        "a = (input(\"Введите 3 числа разделенных запятой: \"))\n",
        "b,c,d = a.split(\",\")\n",
        "print(\"Результат вычисления: \", (int(b)+int(d))/int(c))"
      ],
      "metadata": {
        "colab": {
          "base_uri": "https://localhost:8080/"
        },
        "id": "cQzF2xa5Jq5v",
        "outputId": "539e1b0a-414b-459c-836d-f8403c339020"
      },
      "execution_count": 21,
      "outputs": [
        {
          "output_type": "stream",
          "name": "stdout",
          "text": [
            "Введите 3 числа разделенных запятой: 5,7,9\n",
            "Результат вычисления:  2.0\n"
          ]
        }
      ]
    },
    {
      "cell_type": "markdown",
      "source": [
        "№ 12"
      ],
      "metadata": {
        "id": "NRax8sS4Kcr5"
      }
    },
    {
      "cell_type": "code",
      "source": [
        "a = input(\"Введите слово, содержащее не менее 10 символов: \" )\n",
        "print(a[0:4], a[8:10], a[3:8], a[::-1])"
      ],
      "metadata": {
        "colab": {
          "base_uri": "https://localhost:8080/"
        },
        "id": "DxP7lUYKKevH",
        "outputId": "a5c4ec70-7e28-4bdc-ecb7-1c6bc80908c1"
      },
      "execution_count": 22,
      "outputs": [
        {
          "output_type": "stream",
          "name": "stdout",
          "text": [
            "Введите слово, содержащее не менее 10 символов: 1234567899\n",
            "1234 99 45678 9987654321\n"
          ]
        }
      ]
    }
  ]
}