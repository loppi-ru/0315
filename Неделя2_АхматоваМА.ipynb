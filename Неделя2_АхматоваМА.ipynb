{
  "nbformat": 4,
  "nbformat_minor": 0,
  "metadata": {
    "colab": {
      "provenance": [],
      "authorship_tag": "ABX9TyO34OVtH8y0C1i4QuNG8FSc",
      "include_colab_link": true
    },
    "kernelspec": {
      "name": "python3",
      "display_name": "Python 3"
    },
    "language_info": {
      "name": "python"
    }
  },
  "cells": [
    {
      "cell_type": "markdown",
      "metadata": {
        "id": "view-in-github",
        "colab_type": "text"
      },
      "source": [
        "<a href=\"https://colab.research.google.com/github/loppi-ru/0315/blob/main/%D0%9D%D0%B5%D0%B4%D0%B5%D0%BB%D1%8F2_%D0%90%D1%85%D0%BC%D0%B0%D1%82%D0%BE%D0%B2%D0%B0%D0%9C%D0%90.ipynb\" target=\"_parent\"><img src=\"https://colab.research.google.com/assets/colab-badge.svg\" alt=\"Open In Colab\"/></a>"
      ]
    },
    {
      "cell_type": "markdown",
      "source": [
        "Задание 1"
      ],
      "metadata": {
        "id": "MxXzucFRfmig"
      }
    },
    {
      "cell_type": "code",
      "execution_count": null,
      "metadata": {
        "colab": {
          "base_uri": "https://localhost:8080/"
        },
        "id": "TDTHRrilfa7B",
        "outputId": "1498319a-dd20-49e4-ff50-10dc7b505159"
      },
      "outputs": [
        {
          "output_type": "stream",
          "name": "stdout",
          "text": [
            "10\n",
            "40\n",
            "41.23105625617661\n"
          ]
        }
      ],
      "source": [
        "a = int(input())\n",
        "b = int(input())\n",
        "c = (a**2 + b**2)**0.5\n",
        "print(c)"
      ]
    },
    {
      "cell_type": "markdown",
      "source": [
        "  Задание 2"
      ],
      "metadata": {
        "id": "pGlivZiFgunR"
      }
    },
    {
      "cell_type": "code",
      "source": [
        "num = int(input())\n",
        "print(\"The next number for the number\" + \" \" + str(num) + \" \" + \"is\" + \" \" + str(num +1))\n",
        "print(\"The previous number for the number\" + \" \" + str(num) + \" \" + \"is\" + \" \" + str(num -1))"
      ],
      "metadata": {
        "colab": {
          "base_uri": "https://localhost:8080/"
        },
        "id": "fE9kEvApgyN6",
        "outputId": "eb46a2f2-88f9-4db9-ff6e-2e0d1aeefe6d"
      },
      "execution_count": null,
      "outputs": [
        {
          "output_type": "stream",
          "name": "stdout",
          "text": [
            "20\n",
            "The next number for the number 20 is 21\n",
            "The previous number for the number 20 is 19\n"
          ]
        }
      ]
    },
    {
      "cell_type": "markdown",
      "source": [
        "Задание 3"
      ],
      "metadata": {
        "id": "-fc1WTTyiE5Z"
      }
    },
    {
      "cell_type": "code",
      "source": [
        "x = int(input())\n",
        "print(x//1000-x%10 + x//100%10-x//10%10 + 1)"
      ],
      "metadata": {
        "colab": {
          "base_uri": "https://localhost:8080/"
        },
        "id": "zP0kN5ZciHoG",
        "outputId": "ba84f16c-827b-46fa-e917-13b98a91440e"
      },
      "execution_count": null,
      "outputs": [
        {
          "output_type": "stream",
          "name": "stdout",
          "text": [
            "134\n",
            "-5\n"
          ]
        }
      ]
    },
    {
      "cell_type": "markdown",
      "source": [
        "Задание 4"
      ],
      "metadata": {
        "id": "SCW9dY4_izlL"
      }
    },
    {
      "cell_type": "code",
      "source": [
        "h = int(input())\n",
        "a = int(input())\n",
        "b = int(input())\n",
        "print(1 + (h - a) // (a - b))"
      ],
      "metadata": {
        "colab": {
          "base_uri": "https://localhost:8080/"
        },
        "id": "mOGWzdwThPtx",
        "outputId": "c5166960-a3d7-4b04-8de0-72df123843c3"
      },
      "execution_count": null,
      "outputs": [
        {
          "output_type": "stream",
          "name": "stdout",
          "text": [
            "20\n",
            "3\n",
            "2\n",
            "18\n"
          ]
        }
      ]
    }
  ]
}