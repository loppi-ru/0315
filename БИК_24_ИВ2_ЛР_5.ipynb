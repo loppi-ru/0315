{
  "nbformat": 4,
  "nbformat_minor": 0,
  "metadata": {
    "colab": {
      "provenance": [],
      "authorship_tag": "ABX9TyPR7LFxQIQ0ufHQSmywgT0E",
      "include_colab_link": true
    },
    "kernelspec": {
      "name": "python3",
      "display_name": "Python 3"
    },
    "language_info": {
      "name": "python"
    }
  },
  "cells": [
    {
      "cell_type": "markdown",
      "metadata": {
        "id": "view-in-github",
        "colab_type": "text"
      },
      "source": [
        "<a href=\"https://colab.research.google.com/github/loppi-ru/0315/blob/main/%D0%91%D0%98%D0%9A_24_%D0%98%D0%922_%D0%9B%D0%A0_5.ipynb\" target=\"_parent\"><img src=\"https://colab.research.google.com/assets/colab-badge.svg\" alt=\"Open In Colab\"/></a>"
      ]
    },
    {
      "cell_type": "code",
      "execution_count": null,
      "metadata": {
        "colab": {
          "base_uri": "https://localhost:8080/"
        },
        "id": "KB6NcY5CSg1B",
        "outputId": "4d7c1eaa-7451-4540-db72-9364e5146956"
      },
      "outputs": [
        {
          "output_type": "stream",
          "name": "stdout",
          "text": [
            "Введите начальное число n: 10\n",
            "Введите конечное число m: 20\n",
            "Сумма чисел от 10 до 20 равна 165.\n"
          ]
        }
      ],
      "source": [
        "n = int(input(\"Введите начальное число n: \"))\n",
        "m = int(input(\"Введите конечное число m: \"))\n",
        "\n",
        "suma = sum(range(n, m + 1))\n",
        "\n",
        "print(f\"Сумма чисел от {n} до {m} равна {suma}.\")\n",
        "\n"
      ]
    },
    {
      "cell_type": "markdown",
      "source": [
        "1 Напишите программу, которая бы вычисляла сумму чисел с n до m. Числа n и m вводятся с клавиатуры."
      ],
      "metadata": {
        "id": "OJhIYw0LTa6e"
      }
    },
    {
      "cell_type": "code",
      "source": [
        "while True:\n",
        "    n = float(input(\"Первое число n: \"))\n",
        "    m = float(input(\"Второе число m: \"))\n",
        "    if n == m:\n",
        "        print(\"Ввели одинаковые числа\")\n",
        "        break\n",
        "    suma = n + m\n",
        "    print(f\"Сумма {n} и {m} равна {suma}.\")\n"
      ],
      "metadata": {
        "id": "fJvEhbZMVJsz",
        "colab": {
          "base_uri": "https://localhost:8080/"
        },
        "outputId": "65f2f805-017a-4701-b3a4-59ee91c93e66"
      },
      "execution_count": 10,
      "outputs": [
        {
          "output_type": "stream",
          "name": "stdout",
          "text": [
            "Введите первое число n: 10\n",
            "Введите второе число m: 20\n",
            "Сумма 10.0 и 20.0 равна 30.0.\n",
            "Введите первое число n: 10\n",
            "Введите второе число m: 10\n",
            "Ввели одинаковые числа\n"
          ]
        }
      ]
    },
    {
      "cell_type": "markdown",
      "source": [
        "Напишите программу, которая принимает на вход два числа n и m и вычисляет сумму этих чисел. Программа принимает числа и выводит результат до тех пор, пока пользователь не введет такую комбинацию чисел, что n = m"
      ],
      "metadata": {
        "id": "EIiQWzd9Vfyf"
      }
    },
    {
      "cell_type": "code",
      "source": [
        "with open(\"input.txt\", \"r\", encoding=\"utf-8\") as f:\n",
        "  data = f.readlines()\n",
        "count = len(data)\n",
        "print(f'Количество поисковых фраз: {count}')\n",
        "\n",
        "words = sum(len(data.split())for data in data )\n",
        "print(f'Количество поисковых слов: {words}')"
      ],
      "metadata": {
        "colab": {
          "base_uri": "https://localhost:8080/"
        },
        "id": "NmhcIfCdZ-sU",
        "outputId": "c0b2fe5d-50ca-4f70-8065-b612e913ecf9"
      },
      "execution_count": 22,
      "outputs": [
        {
          "output_type": "stream",
          "name": "stdout",
          "text": [
            "Количество поисковых фраз: 2107\n",
            "Количество поисковых слов: 6957\n"
          ]
        }
      ]
    },
    {
      "cell_type": "markdown",
      "source": [
        "Дан набор данных, содержащий ~200 поисковых фраз для некоторого агенства по разработке сайтов, каждая фраза написана на отдельной строке. Необходимо обработать данный набор фраз и решить следующие задачи:\n",
        "\n",
        "1 посчитать точное количество фраз в документе\n",
        "2 посчитать точное количество слов в документе"
      ],
      "metadata": {
        "id": "Gf3ce2fZZ_Nv"
      }
    }
  ]
}