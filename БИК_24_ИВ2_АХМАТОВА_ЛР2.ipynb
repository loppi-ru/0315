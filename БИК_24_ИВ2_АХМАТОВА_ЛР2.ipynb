{
  "nbformat": 4,
  "nbformat_minor": 0,
  "metadata": {
    "colab": {
      "provenance": [],
      "authorship_tag": "ABX9TyMqhhlPmK90oc/P5GESd/WG",
      "include_colab_link": true
    },
    "kernelspec": {
      "name": "python3",
      "display_name": "Python 3"
    },
    "language_info": {
      "name": "python"
    }
  },
  "cells": [
    {
      "cell_type": "markdown",
      "metadata": {
        "id": "view-in-github",
        "colab_type": "text"
      },
      "source": [
        "<a href=\"https://colab.research.google.com/github/loppi-ru/0315/blob/main/%D0%91%D0%98%D0%9A_24_%D0%98%D0%922_%D0%90%D0%A5%D0%9C%D0%90%D0%A2%D0%9E%D0%92%D0%90_%D0%9B%D0%A02.ipynb\" target=\"_parent\"><img src=\"https://colab.research.google.com/assets/colab-badge.svg\" alt=\"Open In Colab\"/></a>"
      ]
    },
    {
      "cell_type": "code",
      "execution_count": 1,
      "metadata": {
        "colab": {
          "base_uri": "https://localhost:8080/"
        },
        "id": "dQw3oi8sBMWG",
        "outputId": "2485140f-77e2-4afa-c27b-03b3361a3208"
      },
      "outputs": [
        {
          "output_type": "stream",
          "name": "stdout",
          "text": [
            "20.0\n"
          ]
        }
      ],
      "source": [
        "a = 5\n",
        "b = 8\n",
        "c = a * b / 2\n",
        "print (c)"
      ]
    },
    {
      "cell_type": "code",
      "source": [
        "N = 456  # Пример трехзначного числа\n",
        "\n",
        "s = N // 100          # Сотни\n",
        "d = (N // 10) % 10   # Десятки\n",
        "e = N % 10           # Единицы\n",
        "\n",
        "print(\"Сотни:\", s)\n",
        "print(\"Десятки:\", d)\n",
        "print(\"Единицы:\", e)"
      ],
      "metadata": {
        "colab": {
          "base_uri": "https://localhost:8080/"
        },
        "id": "5I0W-lg-LYYB",
        "outputId": "d8a00893-0d1f-4ab8-a455-1bb6962c06ae"
      },
      "execution_count": 2,
      "outputs": [
        {
          "output_type": "stream",
          "name": "stdout",
          "text": [
            "Сотни: 4\n",
            "Десятки: 5\n",
            "Единицы: 6\n"
          ]
        }
      ]
    },
    {
      "cell_type": "code",
      "source": [
        "n = 3665\n",
        "hours = n // 3600\n",
        "minutes = (n % 3600) // 60\n",
        "seconds = n % 60\n",
        "\n",
        "print (f\"Сейчас {hours:02}:{minutes:02}:{seconds:02}\")\n"
      ],
      "metadata": {
        "colab": {
          "base_uri": "https://localhost:8080/"
        },
        "id": "1pHvJ8McNzEn",
        "outputId": "2d8739e1-e6c0-4051-fd01-794876edff4f"
      },
      "execution_count": 3,
      "outputs": [
        {
          "output_type": "stream",
          "name": "stdout",
          "text": [
            "Сейчас 01:01:05\n"
          ]
        }
      ]
    },
    {
      "cell_type": "markdown",
      "source": [
        "1 Дан прямоугольный треугольник со сторонами a и b. Найдите его площадь.\n",
        "Длины сторон задаются самостоятельно.\n",
        "a = 5\n",
        "b = 8\n",
        "\n",
        "2 Дано трехзначное число. Вывести его цифры.можно использовать только арифметические операции\n",
        "\n",
        "3 Дано количество секунд n. Вывести время в формате \"Сейчас hh:mm:ss\" .\n",
        "Использовать только арифметические операции. Рекомендуется использовать форматированнный код."
      ],
      "metadata": {
        "id": "LnWU6IUvJ7-P"
      }
    }
  ]
}