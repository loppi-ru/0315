{
  "nbformat": 4,
  "nbformat_minor": 0,
  "metadata": {
    "colab": {
      "provenance": [],
      "authorship_tag": "ABX9TyM6qAVVfOdf2Yc1EJ7t7rrV",
      "include_colab_link": true
    },
    "kernelspec": {
      "name": "python3",
      "display_name": "Python 3"
    },
    "language_info": {
      "name": "python"
    }
  },
  "cells": [
    {
      "cell_type": "markdown",
      "metadata": {
        "id": "view-in-github",
        "colab_type": "text"
      },
      "source": [
        "<a href=\"https://colab.research.google.com/github/loppi-ru/0315/blob/main/%D0%9D%D0%B5%D0%B4%D0%B5%D0%BB%D1%8F3_%D0%90%D1%85%D0%BC%D0%B0%D1%82%D0%BE%D0%B2%D0%B0%D0%9C%D0%90.ipynb\" target=\"_parent\"><img src=\"https://colab.research.google.com/assets/colab-badge.svg\" alt=\"Open In Colab\"/></a>"
      ]
    },
    {
      "cell_type": "markdown",
      "source": [
        "Задание 1"
      ],
      "metadata": {
        "id": "1Qa4RYi7WZLB"
      }
    },
    {
      "cell_type": "code",
      "execution_count": 4,
      "metadata": {
        "colab": {
          "base_uri": "https://localhost:8080/"
        },
        "id": "rXh_UrN9Vjic",
        "outputId": "8c7dc578-ae70-4fe4-ac10-ef9d641d6a3a"
      },
      "outputs": [
        {
          "output_type": "stream",
          "name": "stdout",
          "text": [
            "Введите строку a: Привет, мир, пока\n",
            "Ведите строку b Мир\n",
            "8\n",
            "мир\n"
          ]
        }
      ],
      "source": [
        "a = input(\"Введите строку a: \")\n",
        "b = input(\"Ведите строку b \")\n",
        "a_lower = a.lower()\n",
        "b_lower = b.lower()\n",
        "index = a_lower.find(b_lower)\n",
        "if index != -1:\n",
        "  substring = a[index:index + len(b)]\n",
        "  print(index)\n",
        "  print(substring)"
      ]
    },
    {
      "cell_type": "markdown",
      "source": [
        "Задание 2"
      ],
      "metadata": {
        "id": "-PKVtz4TZAGb"
      }
    },
    {
      "cell_type": "code",
      "source": [
        "a = input(\"Введите строку: \")\n",
        "\n",
        "substrings = a.split(',')\n",
        "\n",
        "lengths = [len(substring) for substring in substrings]\n",
        "\n",
        "print(','.join(map(str, lengths)))"
      ],
      "metadata": {
        "colab": {
          "base_uri": "https://localhost:8080/"
        },
        "id": "vapfQJmQZCv_",
        "outputId": "1a4f27c4-e8e4-4237-b65f-b9d3f516bdf1"
      },
      "execution_count": 10,
      "outputs": [
        {
          "output_type": "stream",
          "name": "stdout",
          "text": [
            "Введите строку: аббв\n",
            "4\n"
          ]
        }
      ]
    },
    {
      "cell_type": "markdown",
      "source": [
        "Задание 3"
      ],
      "metadata": {
        "id": "RYuRu-9CbbrA"
      }
    },
    {
      "cell_type": "code",
      "source": [
        "stroka = input(\"Введите строку: \")\n",
        "n = int(input(\"Введите индекс n: \"))\n",
        "m = int(input(\"Введите индекс m: \"))\n",
        "words = ''.join(char if char.isalnum() or char.isspace() else ' ' for char in stroka).split()\n",
        "array_to_n = words[:n]\n",
        "array_from_m = words[m:]\n",
        "print(array_to_n, array_from_m)"
      ],
      "metadata": {
        "colab": {
          "base_uri": "https://localhost:8080/"
        },
        "id": "8UgQspHDbsQK",
        "outputId": "cc232c90-eb74-4f6d-cb50-445299c031a9"
      },
      "execution_count": 13,
      "outputs": [
        {
          "output_type": "stream",
          "name": "stdout",
          "text": [
            "Введите строку: Привет, мир\n",
            "Введите индекс n: 8\n",
            "Введите индекс m: 5\n",
            "['Привет', 'мир'] []\n"
          ]
        }
      ]
    }
  ]
}