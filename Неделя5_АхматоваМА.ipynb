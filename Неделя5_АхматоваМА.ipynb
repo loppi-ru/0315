{
  "nbformat": 4,
  "nbformat_minor": 0,
  "metadata": {
    "colab": {
      "provenance": [],
      "authorship_tag": "ABX9TyNiJPURWhO3M1lUQwcTnOuo",
      "include_colab_link": true
    },
    "kernelspec": {
      "name": "python3",
      "display_name": "Python 3"
    },
    "language_info": {
      "name": "python"
    }
  },
  "cells": [
    {
      "cell_type": "markdown",
      "metadata": {
        "id": "view-in-github",
        "colab_type": "text"
      },
      "source": [
        "<a href=\"https://colab.research.google.com/github/loppi-ru/0315/blob/main/%D0%9D%D0%B5%D0%B4%D0%B5%D0%BB%D1%8F5_%D0%90%D1%85%D0%BC%D0%B0%D1%82%D0%BE%D0%B2%D0%B0%D0%9C%D0%90.ipynb\" target=\"_parent\"><img src=\"https://colab.research.google.com/assets/colab-badge.svg\" alt=\"Open In Colab\"/></a>"
      ]
    },
    {
      "cell_type": "markdown",
      "source": [
        "Задача №1"
      ],
      "metadata": {
        "id": "F-8VtW_dcff0"
      }
    },
    {
      "cell_type": "code",
      "execution_count": 9,
      "metadata": {
        "colab": {
          "base_uri": "https://localhost:8080/"
        },
        "id": "iI9aIzuuXUNC",
        "outputId": "82da20d8-0eff-42f3-f459-82c153acb926"
      },
      "outputs": [
        {
          "output_type": "stream",
          "name": "stdout",
          "text": [
            "1 1 2 3 4 5\n",
            "NO\n",
            "YES\n",
            "NO\n",
            "NO\n",
            "NO\n",
            "NO\n"
          ]
        }
      ],
      "source": [
        "numbers = input().split()\n",
        "seen_numbers = set()\n",
        "for number in numbers:\n",
        "    if number in seen_numbers:\n",
        "        print(\"YES\")\n",
        "    else:\n",
        "        print(\"NO\")\n",
        "        seen_numbers.add(number)"
      ]
    },
    {
      "cell_type": "markdown",
      "source": [
        "Задача №2"
      ],
      "metadata": {
        "id": "gLAlVOFBgVSk"
      }
    },
    {
      "cell_type": "code",
      "source": [
        "from collections import defaultdict, deque\n",
        "\n",
        "def read_data():\n",
        "    N = int(input(\"Введите количество станций метро (N): \"))\n",
        "    M = int(input(\"Введите количество линий метро (M): \"))\n",
        "\n",
        "    lines = []\n",
        "    print(\"Введите станции для каждой линии:\")\n",
        "    for i in range(M):\n",
        "\n",
        "        line_info = list(map(int, input(f\"Линия {i + 1}: \").split()))\n",
        "        lines.append(line_info[1:])\n",
        "\n",
        "    A = int(input(\"Введите номер начальной станции (A): \"))\n",
        "    B = int(input(\"Введите номер конечной станции (B): \"))\n",
        "\n",
        "    return N, M, lines, A, B\n",
        "\n",
        "def find_min_transfers(N, M, lines, A, B):\n",
        "    station_to_lines = defaultdict(list)\n",
        "    for i in range(M):\n",
        "        for station in lines[i]:\n",
        "            station_to_lines[station].append(i)\n",
        "    neighbors = defaultdict(set)\n",
        "    for station, these_lines in station_to_lines.items():\n",
        "        for i in these_lines:\n",
        "            for j in these_lines:\n",
        "                if i != j:\n",
        "                    neighbors[i].add(j)\n",
        "    start_lines = set(station_to_lines[A])\n",
        "    target_lines = set(station_to_lines[B])\n",
        "    queue = deque((line, 0) for line in start_lines)\n",
        "    visited = set(start_lines)\n",
        "    while queue:\n",
        "        current, transfers = queue.popleft()\n",
        "\n",
        "        if current in target_lines:\n",
        "            return transfers\n",
        "\n",
        "        for neighbor in neighbors[current]:\n",
        "            if neighbor not in visited:\n",
        "                visited.add(neighbor)\n",
        "                queue.append((neighbor, transfers + 1))\n",
        "\n",
        "    return -1\n",
        "\n",
        "def main():\n",
        "    N, M, lines, A, B = read_data()\n",
        "    result = find_min_transfers(N, M, lines, A, B)\n",
        "    if result == -1:\n",
        "        print(\"Пересадки невозможны\")\n",
        "    else:\n",
        "        print(f\"Минимальное количество пересадок: {result}\")\n",
        "\n",
        "if __name__ == \"__main__\":\n",
        "    main()"
      ],
      "metadata": {
        "colab": {
          "base_uri": "https://localhost:8080/"
        },
        "id": "yLtNN8DUoZxr",
        "outputId": "9eee85c5-ca09-448f-d6d5-cba9e8779bd8"
      },
      "execution_count": 14,
      "outputs": [
        {
          "output_type": "stream",
          "name": "stdout",
          "text": [
            "Введите количество станций метро (N): 6\n",
            "Введите количество линий метро (M): 4\n",
            "Введите станции для каждой линии:\n",
            "Линия 1: 1 2 3 4 5 6\n",
            "Линия 2: 2 3 4 5  6 7\n",
            "Линия 3: 3 4 5 6 7 8\n",
            "Линия 4: 4 5 6 7 8 9\n",
            "Введите номер начальной станции (A): 4\n",
            "Введите номер конечной станции (B): 9\n",
            "Минимальное количество пересадок: 1\n"
          ]
        }
      ]
    },
    {
      "cell_type": "markdown",
      "source": [
        "Задача №3"
      ],
      "metadata": {
        "id": "A6alMOKzku6j"
      }
    },
    {
      "cell_type": "code",
      "source": [
        "N = int(input(\"Введите кол-во стран\"))\n",
        "city_to_country = {}\n",
        "print(\"Введите страны и их города:\")\n",
        "for _ in range(N):\n",
        "    data = input().split()\n",
        "    country = data[0]\n",
        "    cities = data[1:]\n",
        "\n",
        "    for city in cities:\n",
        "        city_to_country[city] = country\n",
        "M = int(input(\"Введите кол-во запросов:\"))\n",
        "print(\"Введите названия городов для запроса:\")\n",
        "results = []\n",
        "for _ in range(M):\n",
        "    city_query = input().strip()\n",
        "    print(city_to_country.get(city_query, \"Город не найден\"))\n"
      ],
      "metadata": {
        "colab": {
          "base_uri": "https://localhost:8080/"
        },
        "id": "aCNfwlwqkxFa",
        "outputId": "d3b2ba04-7676-4c90-9cb9-ac3bcc4352f5"
      },
      "execution_count": 13,
      "outputs": [
        {
          "output_type": "stream",
          "name": "stdout",
          "text": [
            "Введите кол-во стран3\n",
            "Введите страны и их города:\n",
            "Russia Moskow\n",
            "India New Dehli\n",
            "France Paris\n",
            "Введите кол-во запросов:2\n",
            "Введите названия городов для запроса:\n",
            "Moskow\n",
            "Russia\n",
            "Paris\n",
            "France\n"
          ]
        }
      ]
    },
    {
      "cell_type": "markdown",
      "source": [
        "Задача №4"
      ],
      "metadata": {
        "id": "J-S_vbNKpXpO"
      }
    },
    {
      "cell_type": "code",
      "source": [
        "def calculate_election_results():\n",
        "    results = {}\n",
        "\n",
        "    n = int(input(\"Введите количество кандидатов: \"))\n",
        "\n",
        "    for _ in range(n):\n",
        "        line = input(\"Введите имя кандидата и количество голосов: \")\n",
        "        parts = line.split()\n",
        "        candidate = ' '.join(parts[:-1])\n",
        "        votes = int(parts[-1])\n",
        "\n",
        "        if candidate in results:\n",
        "            results[candidate] += votes\n",
        "        else:\n",
        "            results[candidate] = votes\n",
        "    sorted_results = sorted(results.items())\n",
        "    for candidate, votes in sorted_results:\n",
        "        print(candidate, votes)\n",
        "calculate_election_results()"
      ],
      "metadata": {
        "colab": {
          "base_uri": "https://localhost:8080/"
        },
        "id": "B-HnDdeJpedz",
        "outputId": "a961d1ac-1d05-4341-b432-897296398d61"
      },
      "execution_count": 17,
      "outputs": [
        {
          "output_type": "stream",
          "name": "stdout",
          "text": [
            "Введите количество кандидатов: 3\n",
            "Введите имя кандидата и количество голосов: Вова 10\n",
            "Введите имя кандидата и количество голосов: Ира 15\n",
            "Введите имя кандидата и количество голосов: Костя 30\n",
            "Вова 10\n",
            "Ира 15\n",
            "Костя 30\n"
          ]
        }
      ]
    },
    {
      "cell_type": "markdown",
      "source": [
        "Задача №5"
      ],
      "metadata": {
        "id": "HbydBkKnraBn"
      }
    },
    {
      "cell_type": "code",
      "source": [
        "from collections import defaultdict\n",
        "\n",
        "word_count = defaultdict(int)\n",
        "\n",
        "text = input(\"Введите текст: \")\n",
        "\n",
        "words = text.split()\n",
        "for word in words:\n",
        "    word_count[word] += 1\n",
        "\n",
        "sorted_words = sorted(word_count.items(), key=lambda x: (-x[1], x[0]))\n",
        "\n",
        "for word, count in sorted_words:\n",
        "    print(word)"
      ],
      "metadata": {
        "colab": {
          "base_uri": "https://localhost:8080/"
        },
        "id": "HtvlZOiarZS5",
        "outputId": "13cc89bb-deee-4a82-bd65-b7e81236ec83"
      },
      "execution_count": 20,
      "outputs": [
        {
          "output_type": "stream",
          "name": "stdout",
          "text": [
            "Введите текст: Маша громко плачет, уронила в речку мячик\n",
            "Маша\n",
            "в\n",
            "громко\n",
            "мячик\n",
            "плачет,\n",
            "речку\n",
            "уронила\n"
          ]
        }
      ]
    },
    {
      "cell_type": "markdown",
      "source": [
        "Задача №6"
      ],
      "metadata": {
        "id": "BqdDgh4Jsiv_"
      }
    },
    {
      "cell_type": "code",
      "source": [
        "class BankSystem:\n",
        "    def __init__(self):\n",
        "        self.accounts = {}\n",
        "\n",
        "    def deposit(self, name, sum):\n",
        "        if name not in self.accounts:\n",
        "            self.accounts[name] = 0\n",
        "        self.accounts[name] += sum\n",
        "\n",
        "    def withdraw(self, name, sum):\n",
        "        if name not in self.accounts:\n",
        "            self.accounts[name] = 0\n",
        "        self.accounts[name] -= sum\n",
        "\n",
        "    def balance(self, name):\n",
        "        if name in self.accounts:\n",
        "            return self.accounts[name]\n",
        "        else:\n",
        "            return \"ERROR\"\n",
        "\n",
        "    def transfer(self, name1, name2, sum):\n",
        "        if name1 not in self.accounts:\n",
        "            self.accounts[name1] = 0\n",
        "        if name2 not in self.accounts:\n",
        "            self.accounts[name2] = 0\n",
        "        self.accounts[name1] -= sum\n",
        "        self.accounts[name2] += sum\n",
        "\n",
        "    def income(self, p):\n",
        "        for name in self.accounts:\n",
        "            if self.accounts[name] > 0:\n",
        "                self.accounts[name] += int(self.accounts[name] * (p / 100))\n",
        "\n",
        "    def process_commands(self, commands):\n",
        "        results = []\n",
        "        for command in commands:\n",
        "            parts = command.split()\n",
        "            operation = parts[0]\n",
        "            if operation == \"DEPOSIT\":\n",
        "                self.deposit(parts[1], int(parts[2]))\n",
        "            elif operation == \"WITHDRAW\":\n",
        "                self.withdraw(parts[1], int(parts[2]))\n",
        "            elif operation == \"BALANCE\":\n",
        "                results.append(self.balance(parts[1]))\n",
        "            elif operation == \"TRANSFER\":\n",
        "                self.transfer(parts[1], parts[2], int(parts[3]))\n",
        "            elif operation == \"INCOME\":\n",
        "                self.income(int(parts[1]))\n",
        "        return results\n",
        "\n",
        "bank = BankSystem()\n",
        "commands = [\n",
        "    \"DEPOSIT Alice 200\",\n",
        "    \"DEPOSIT Bob 300\",\n",
        "    \"TRANSFER Alice Bob 25\",\n",
        "    \"WITHDRAW Bob 100\",\n",
        "    \"BALANCE Alice\",\n",
        "    \"BALANCE Bob\",\n",
        "    \"INCOME 20\",\n",
        "    \"BALANCE Alice\",\n",
        "    \"BALANCE Bob\"\n",
        "]\n",
        "results = bank.process_commands(commands)\n",
        "for result in results:\n",
        "    print(result)"
      ],
      "metadata": {
        "colab": {
          "base_uri": "https://localhost:8080/"
        },
        "id": "0GRscaJxsl_9",
        "outputId": "8b2825d0-568f-43c3-ac69-d685f915c848"
      },
      "execution_count": 27,
      "outputs": [
        {
          "output_type": "stream",
          "name": "stdout",
          "text": [
            "175\n",
            "225\n",
            "210\n",
            "270\n"
          ]
        }
      ]
    },
    {
      "cell_type": "markdown",
      "source": [
        "Задача №7"
      ],
      "metadata": {
        "id": "wFyUVsjjuYlP"
      }
    },
    {
      "cell_type": "code",
      "source": [
        "def create_matrix(n, m):\n",
        "    matrix = [[0] * m for _ in range(n)]\n",
        "    num = 0\n",
        "\n",
        "    for i in range(n):\n",
        "        if i % 2 == 0:\n",
        "            for j in range(m):\n",
        "                matrix[i][j] = num\n",
        "                num += 1\n",
        "        else:\n",
        "            for j in range(m - 1, -1, -1):\n",
        "                matrix[i][j] = num\n",
        "                num += 1\n",
        "\n",
        "    return matrix\n",
        "\n",
        "N, M, X, Y = map(int, input(\"Введите N, M, X, Y через пробел:\").strip().split())\n",
        "\n",
        "matrix = create_matrix(N, M)\n",
        "print(matrix [X - 1][Y - 1])\n"
      ],
      "metadata": {
        "colab": {
          "base_uri": "https://localhost:8080/"
        },
        "id": "f6csPeQwuaVU",
        "outputId": "43bf8d5a-f682-4eb1-a200-b6e1b21027c0"
      },
      "execution_count": 33,
      "outputs": [
        {
          "output_type": "stream",
          "name": "stdout",
          "text": [
            "Введите N, M, X, Y через пробел:3 2 3 2\n",
            "5\n"
          ]
        }
      ]
    },
    {
      "cell_type": "markdown",
      "source": [
        "Задача №8"
      ],
      "metadata": {
        "id": "1F__Ep05vaL0"
      }
    },
    {
      "cell_type": "code",
      "source": [
        "def eat_grass_calories(n, field):\n",
        "    total_calories = field[n - 1][0]\n",
        "    current_x, current_y = n - 1, 0\n",
        "    while current_x > 0 or current_y < n - 1:\n",
        "        if current_x == 0:\n",
        "            current_y += 1\n",
        "        elif current_y == n - 1:\n",
        "            current_x -= 1\n",
        "        else:\n",
        "\n",
        "            if field[current_x - 1][current_y] > field[current_x][current_y + 1]:\n",
        "                current_x -= 1\n",
        "            else:\n",
        "                current_y += 1\n",
        "\n",
        "        total_calories += field[current_x][current_y]\n",
        "\n",
        "    return total_calories\n",
        "\n",
        "N = int(input(\"Введите размер поля N: \").strip())\n",
        "field = [list(map(int, input(\"Введите калорийность клеток в ряду через пробел: \").strip().split())) for _ in range(N)]\n",
        "\n",
        "result = eat_grass_calories(N, field)\n",
        "\n",
        "print(\"Максимальное количество калорий:\",result)\n"
      ],
      "metadata": {
        "colab": {
          "base_uri": "https://localhost:8080/"
        },
        "id": "wzHDj8H_vcYR",
        "outputId": "92ee1c8a-4311-4136-9b3c-066553d0cee0"
      },
      "execution_count": 35,
      "outputs": [
        {
          "output_type": "stream",
          "name": "stdout",
          "text": [
            "Введите размер поля N: 4\n",
            "Введите калорийность клеток в ряду через пробел: 15 16 17 18\n",
            "Введите калорийность клеток в ряду через пробел: 35 36 37 38\n",
            "Введите калорийность клеток в ряду через пробел: 55 56 57 58\n",
            "Введите калорийность клеток в ряду через пробел: 75 76 77 78\n",
            "Максимальное количество калорий: 420\n"
          ]
        }
      ]
    },
    {
      "cell_type": "markdown",
      "source": [
        "Задача №9"
      ],
      "metadata": {
        "id": "AZaIrlzDwd3S"
      }
    },
    {
      "cell_type": "code",
      "source": [
        "X = int(input(\"Введите число X: \").strip())\n",
        "N = int(input(\"Введите размерность таблицы N: \").strip())\n",
        "matrix = [list(map(int, input(\"Введите числа для строки таблицы через пробел: \").strip().split())) for _ in range(N)]\n",
        "\n",
        "for col in range(N):\n",
        "    found = False\n",
        "    for row in range(N):\n",
        "        if matrix[row][col] == X:\n",
        "            found = True\n",
        "            break\n",
        "    print(\"YES\" if found else \"NO\")\n"
      ],
      "metadata": {
        "colab": {
          "base_uri": "https://localhost:8080/"
        },
        "id": "Ds7DbNnAwhB0",
        "outputId": "011ce351-f4b8-40a1-cd14-fd0284d74fa6"
      },
      "execution_count": 36,
      "outputs": [
        {
          "output_type": "stream",
          "name": "stdout",
          "text": [
            "Введите число X: 6\n",
            "Введите размерность таблицы N: 4\n",
            "Введите числа для строки таблицы через пробел: 8 6 5 4\n",
            "Введите числа для строки таблицы через пробел: 6 5 4 8\n",
            "Введите числа для строки таблицы через пробел: 5 6 8 4\n",
            "Введите числа для строки таблицы через пробел: 4 8 6 5\n",
            "YES\n",
            "YES\n",
            "YES\n",
            "NO\n"
          ]
        }
      ]
    },
    {
      "cell_type": "markdown",
      "source": [
        "Задача №10"
      ],
      "metadata": {
        "id": "4rVc9Bv9yBSn"
      }
    },
    {
      "cell_type": "code",
      "source": [
        "def process_purchases():\n",
        "    purchases = {}\n",
        "    n = int(input(\"Введите количество покупок: \"))\n",
        "\n",
        "    for _ in range(n):\n",
        "        line = input(\"Введите запись (Покупатель товар количество): \")\n",
        "        customer, product, quantity = line.split()\n",
        "        quantity = int(quantity)\n",
        "\n",
        "        if customer not in purchases:\n",
        "            purchases[customer] = {}\n",
        "\n",
        "        if product not in purchases[customer]:\n",
        "            purchases[customer][product] = 0\n",
        "\n",
        "        purchases[customer][product] += quantity\n",
        "\n",
        "    for customer in sorted(purchases):\n",
        "        print(f\"{customer}:\")\n",
        "        for product in sorted(purchases[customer]):\n",
        "            print(f\"  {product} {purchases[customer][product]}\")\n",
        "\n",
        "process_purchases()"
      ],
      "metadata": {
        "colab": {
          "base_uri": "https://localhost:8080/"
        },
        "id": "OiYPnvikyGM5",
        "outputId": "2318e91b-bbc4-436e-8636-be0721420533"
      },
      "execution_count": 39,
      "outputs": [
        {
          "output_type": "stream",
          "name": "stdout",
          "text": [
            "Введите количество покупок: 2\n",
            "Введите запись (Покупатель товар количество): Роза яблоки 50\n",
            "Введите запись (Покупатель товар количество): Илья ноутбук 150\n",
            "Илья:\n",
            "  ноутбук 150\n",
            "Роза:\n",
            "  яблоки 50\n"
          ]
        }
      ]
    }
  ]
}