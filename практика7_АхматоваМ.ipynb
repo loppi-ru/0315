{
  "nbformat": 4,
  "nbformat_minor": 0,
  "metadata": {
    "colab": {
      "provenance": [],
      "authorship_tag": "ABX9TyMU4BIc/7tZktsQn2W6WOHY",
      "include_colab_link": true
    },
    "kernelspec": {
      "name": "python3",
      "display_name": "Python 3"
    },
    "language_info": {
      "name": "python"
    }
  },
  "cells": [
    {
      "cell_type": "markdown",
      "metadata": {
        "id": "view-in-github",
        "colab_type": "text"
      },
      "source": [
        "<a href=\"https://colab.research.google.com/github/loppi-ru/0315/blob/main/%D0%BF%D1%80%D0%B0%D0%BA%D1%82%D0%B8%D0%BA%D0%B07_%D0%90%D1%85%D0%BC%D0%B0%D1%82%D0%BE%D0%B2%D0%B0%D0%9C.ipynb\" target=\"_parent\"><img src=\"https://colab.research.google.com/assets/colab-badge.svg\" alt=\"Open In Colab\"/></a>"
      ]
    },
    {
      "cell_type": "markdown",
      "source": [
        "с клавиатуры вводится число, n - кол-во строк и столбцов матрицы. Реализуйте матрицу размером n на n элементов из подряд идущих чисел. Например, для числа 2 исходной матрицей будет\n",
        " [[1, 2],\n",
        " [3, 4]]\n",
        " После этого выведите полученную матрицу и ее определитель"
      ],
      "metadata": {
        "id": "fJIU8VFchJOv"
      }
    },
    {
      "cell_type": "code",
      "execution_count": 11,
      "metadata": {
        "colab": {
          "base_uri": "https://localhost:8080/"
        },
        "id": "4yRWvatchCu2",
        "outputId": "2fd27aad-204f-474c-8b18-e46423e1aa4f"
      },
      "outputs": [
        {
          "output_type": "stream",
          "name": "stdout",
          "text": [
            "Введите размер матрицы n: 4\n",
            "Полученная матрица:\n",
            "[[ 1  2  3  4]\n",
            " [ 5  6  7  8]\n",
            " [ 9 10 11 12]\n",
            " [13 14 15 16]]\n",
            "Определитель матрицы: 0.0\n"
          ]
        }
      ],
      "source": [
        "import numpy as np\n",
        "\n",
        "n = int(input(\"Введите размер матрицы n: \"))\n",
        "\n",
        "matrix = np.arange(1, n*n + 1).reshape(n, n)\n",
        "\n",
        "print(\"Полученная матрица:\")\n",
        "print(matrix)\n",
        "\n",
        "determinant = np.linalg.det(matrix)\n",
        "\n",
        "print(\"Определитель матрицы:\", determinant)\n"
      ]
    },
    {
      "cell_type": "markdown",
      "source": [
        "дана таблица с данными об учениках и их успеваемости. Из таблички необходимо получить следующие данные:\n",
        "1. по какому предмету самый высокий средний балл?\n",
        "кто из учеников больше других преуспевает по всем предметам (имеет самый высокий балл)?\n",
        "Исходная таблица:\n",
        "[[ 'ФИО', 'Балл по программированию', 'Балл по ОБЖ', 'Балл по алгебре']\n",
        "[ 'Петров', '78', '93', '61']\n",
        "[ 'Иванов', '56', '67', '73']\n",
        "[ 'Сидорова', '81', '75', '70']]"
      ],
      "metadata": {
        "id": "g9juJUa1je7M"
      }
    },
    {
      "cell_type": "code",
      "source": [
        "import pandas as pd\n",
        "\n",
        "data = {\n",
        "    'ФИО': ['Петров', 'Иванов', 'Сидорова'],\n",
        "    'Балл по программированию': [78, 56, 81],\n",
        "    'Балл по ОБЖ': [93, 67, 75],\n",
        "    'Балл по алгебре': [61, 73, 70]\n",
        "}\n",
        "\n",
        "df = pd.DataFrame(data)\n",
        "\n",
        "average_scores = df[['Балл по программированию', 'Балл по ОБЖ', 'Балл по алгебре']].mean()\n",
        "\n",
        "highest_avg_subject = average_scores.idxmax()\n",
        "highest_avg_score = average_scores.max()\n",
        "\n",
        "df['Средний балл'] = df[['Балл по программированию', 'Балл по ОБЖ', 'Балл по алгебре']].mean(axis=1)\n",
        "top_student = df.loc[df['Средний балл'].idxmax(), 'ФИО']\n",
        "top_student_score = df['Средний балл'].max()\n",
        "\n",
        "print(\"Самый высокий средний балл по предмету:\", highest_avg_subject, \"с баллом\", highest_avg_score)\n",
        "print(\"Ученик, который больше других преуспевает по всем предметам:\", top_student, \"со средним баллом\", top_student_score)\n"
      ],
      "metadata": {
        "colab": {
          "base_uri": "https://localhost:8080/"
        },
        "id": "GyWe_SH6lI4r",
        "outputId": "da35539f-5626-4bb6-95a7-b8a5da3d203f"
      },
      "execution_count": 10,
      "outputs": [
        {
          "output_type": "stream",
          "name": "stdout",
          "text": [
            "Самый высокий средний балл по предмету: Балл по ОБЖ с баллом 78.33333333333333\n",
            "Ученик, который больше других преуспевает по всем предметам: Петров со средним баллом 77.33333333333333\n"
          ]
        }
      ]
    }
  ]
}