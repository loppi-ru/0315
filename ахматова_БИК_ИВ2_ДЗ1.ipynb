{
  "nbformat": 4,
  "nbformat_minor": 0,
  "metadata": {
    "colab": {
      "provenance": [],
      "authorship_tag": "ABX9TyNP4zFABe71/SldTZGCD3EV",
      "include_colab_link": true
    },
    "kernelspec": {
      "name": "python3",
      "display_name": "Python 3"
    },
    "language_info": {
      "name": "python"
    }
  },
  "cells": [
    {
      "cell_type": "markdown",
      "metadata": {
        "id": "view-in-github",
        "colab_type": "text"
      },
      "source": [
        "<a href=\"https://colab.research.google.com/github/loppi-ru/0315/blob/main/%D0%B0%D1%85%D0%BC%D0%B0%D1%82%D0%BE%D0%B2%D0%B0_%D0%91%D0%98%D0%9A_%D0%98%D0%922_%D0%94%D0%971.ipynb\" target=\"_parent\"><img src=\"https://colab.research.google.com/assets/colab-badge.svg\" alt=\"Open In Colab\"/></a>"
      ]
    },
    {
      "cell_type": "code",
      "execution_count": null,
      "metadata": {
        "id": "UgDAZwYNDQZg"
      },
      "outputs": [],
      "source": [
        "a = 1\n",
        "b = 2\n",
        "c = a + b\n",
        "print (c)\n",
        "print (a+b)"
      ]
    }
  ]
}